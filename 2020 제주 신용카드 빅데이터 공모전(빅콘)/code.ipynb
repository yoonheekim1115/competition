{
 "cells": [
  {
   "cell_type": "code",
   "execution_count": 1,
   "metadata": {},
   "outputs": [],
   "source": [
    "import numpy as np\n",
    "import pandas as pd"
   ]
  },
  {
   "cell_type": "markdown",
   "metadata": {},
   "source": [
    "# 데이터"
   ]
  },
  {
   "cell_type": "markdown",
   "metadata": {},
   "source": [
    "### 1. 데이터 가져오기"
   ]
  },
  {
   "cell_type": "markdown",
   "metadata": {},
   "source": [
    "2019.01~2020.03 기간 내 카드 데이터"
   ]
  },
  {
   "cell_type": "code",
   "execution_count": 2,
   "metadata": {},
   "outputs": [],
   "source": [
    "credit = pd.read_csv('C:/Users/user/Desktop/대학원/공모전/데이터/jeju_data_ver1/201901-202003.csv')"
   ]
  },
  {
   "cell_type": "markdown",
   "metadata": {},
   "source": [
    "### 2. 데이터 확인"
   ]
  },
  {
   "cell_type": "code",
   "execution_count": 3,
   "metadata": {},
   "outputs": [
    {
     "data": {
      "text/html": [
       "<div>\n",
       "<style scoped>\n",
       "    .dataframe tbody tr th:only-of-type {\n",
       "        vertical-align: middle;\n",
       "    }\n",
       "\n",
       "    .dataframe tbody tr th {\n",
       "        vertical-align: top;\n",
       "    }\n",
       "\n",
       "    .dataframe thead th {\n",
       "        text-align: right;\n",
       "    }\n",
       "</style>\n",
       "<table border=\"1\" class=\"dataframe\">\n",
       "  <thead>\n",
       "    <tr style=\"text-align: right;\">\n",
       "      <th></th>\n",
       "      <th>REG_YYMM</th>\n",
       "      <th>CARD_SIDO_NM</th>\n",
       "      <th>CARD_CCG_NM</th>\n",
       "      <th>STD_CLSS_NM</th>\n",
       "      <th>HOM_SIDO_NM</th>\n",
       "      <th>HOM_CCG_NM</th>\n",
       "      <th>AGE</th>\n",
       "      <th>SEX_CTGO_CD</th>\n",
       "      <th>FLC</th>\n",
       "      <th>CSTMR_CNT</th>\n",
       "      <th>AMT</th>\n",
       "      <th>CNT</th>\n",
       "    </tr>\n",
       "  </thead>\n",
       "  <tbody>\n",
       "    <tr>\n",
       "      <th>0</th>\n",
       "      <td>201901</td>\n",
       "      <td>강원</td>\n",
       "      <td>강릉시</td>\n",
       "      <td>건강보조식품 소매업</td>\n",
       "      <td>강원</td>\n",
       "      <td>강릉시</td>\n",
       "      <td>20s</td>\n",
       "      <td>1</td>\n",
       "      <td>1</td>\n",
       "      <td>4</td>\n",
       "      <td>311200</td>\n",
       "      <td>4</td>\n",
       "    </tr>\n",
       "    <tr>\n",
       "      <th>1</th>\n",
       "      <td>201901</td>\n",
       "      <td>강원</td>\n",
       "      <td>강릉시</td>\n",
       "      <td>건강보조식품 소매업</td>\n",
       "      <td>강원</td>\n",
       "      <td>강릉시</td>\n",
       "      <td>30s</td>\n",
       "      <td>1</td>\n",
       "      <td>2</td>\n",
       "      <td>7</td>\n",
       "      <td>1374500</td>\n",
       "      <td>8</td>\n",
       "    </tr>\n",
       "    <tr>\n",
       "      <th>2</th>\n",
       "      <td>201901</td>\n",
       "      <td>강원</td>\n",
       "      <td>강릉시</td>\n",
       "      <td>건강보조식품 소매업</td>\n",
       "      <td>강원</td>\n",
       "      <td>강릉시</td>\n",
       "      <td>30s</td>\n",
       "      <td>2</td>\n",
       "      <td>2</td>\n",
       "      <td>6</td>\n",
       "      <td>818700</td>\n",
       "      <td>6</td>\n",
       "    </tr>\n",
       "    <tr>\n",
       "      <th>3</th>\n",
       "      <td>201901</td>\n",
       "      <td>강원</td>\n",
       "      <td>강릉시</td>\n",
       "      <td>건강보조식품 소매업</td>\n",
       "      <td>강원</td>\n",
       "      <td>강릉시</td>\n",
       "      <td>40s</td>\n",
       "      <td>1</td>\n",
       "      <td>3</td>\n",
       "      <td>4</td>\n",
       "      <td>1717000</td>\n",
       "      <td>5</td>\n",
       "    </tr>\n",
       "    <tr>\n",
       "      <th>4</th>\n",
       "      <td>201901</td>\n",
       "      <td>강원</td>\n",
       "      <td>강릉시</td>\n",
       "      <td>건강보조식품 소매업</td>\n",
       "      <td>강원</td>\n",
       "      <td>강릉시</td>\n",
       "      <td>40s</td>\n",
       "      <td>1</td>\n",
       "      <td>4</td>\n",
       "      <td>3</td>\n",
       "      <td>1047300</td>\n",
       "      <td>3</td>\n",
       "    </tr>\n",
       "  </tbody>\n",
       "</table>\n",
       "</div>"
      ],
      "text/plain": [
       "   REG_YYMM CARD_SIDO_NM CARD_CCG_NM STD_CLSS_NM HOM_SIDO_NM HOM_CCG_NM  AGE  \\\n",
       "0    201901           강원         강릉시  건강보조식품 소매업          강원        강릉시  20s   \n",
       "1    201901           강원         강릉시  건강보조식품 소매업          강원        강릉시  30s   \n",
       "2    201901           강원         강릉시  건강보조식품 소매업          강원        강릉시  30s   \n",
       "3    201901           강원         강릉시  건강보조식품 소매업          강원        강릉시  40s   \n",
       "4    201901           강원         강릉시  건강보조식품 소매업          강원        강릉시  40s   \n",
       "\n",
       "   SEX_CTGO_CD  FLC  CSTMR_CNT      AMT  CNT  \n",
       "0            1    1          4   311200    4  \n",
       "1            1    2          7  1374500    8  \n",
       "2            2    2          6   818700    6  \n",
       "3            1    3          4  1717000    5  \n",
       "4            1    4          3  1047300    3  "
      ]
     },
     "execution_count": 3,
     "metadata": {},
     "output_type": "execute_result"
    }
   ],
   "source": [
    "credit.head()"
   ]
  },
  {
   "cell_type": "code",
   "execution_count": 4,
   "metadata": {},
   "outputs": [
    {
     "data": {
      "text/plain": [
       "(24697792, 12)"
      ]
     },
     "execution_count": 4,
     "metadata": {},
     "output_type": "execute_result"
    }
   ],
   "source": [
    "# (행, 변수)\n",
    "credit.shape"
   ]
  },
  {
   "cell_type": "code",
   "execution_count": 5,
   "metadata": {
    "scrolled": false
   },
   "outputs": [
    {
     "name": "stdout",
     "output_type": "stream",
     "text": [
      "<class 'pandas.core.frame.DataFrame'>\n",
      "RangeIndex: 24697792 entries, 0 to 24697791\n",
      "Data columns (total 12 columns):\n",
      " #   Column        Dtype \n",
      "---  ------        ----- \n",
      " 0   REG_YYMM      int64 \n",
      " 1   CARD_SIDO_NM  object\n",
      " 2   CARD_CCG_NM   object\n",
      " 3   STD_CLSS_NM   object\n",
      " 4   HOM_SIDO_NM   object\n",
      " 5   HOM_CCG_NM    object\n",
      " 6   AGE           object\n",
      " 7   SEX_CTGO_CD   int64 \n",
      " 8   FLC           int64 \n",
      " 9   CSTMR_CNT     int64 \n",
      " 10  AMT           int64 \n",
      " 11  CNT           int64 \n",
      "dtypes: int64(6), object(6)\n",
      "memory usage: 2.2+ GB\n"
     ]
    }
   ],
   "source": [
    "# 데이터 타입\n",
    "credit.info()"
   ]
  },
  {
   "cell_type": "code",
   "execution_count": 16,
   "metadata": {},
   "outputs": [
    {
     "data": {
      "text/html": [
       "<div>\n",
       "<style scoped>\n",
       "    .dataframe tbody tr th:only-of-type {\n",
       "        vertical-align: middle;\n",
       "    }\n",
       "\n",
       "    .dataframe tbody tr th {\n",
       "        vertical-align: top;\n",
       "    }\n",
       "\n",
       "    .dataframe thead th {\n",
       "        text-align: right;\n",
       "    }\n",
       "</style>\n",
       "<table border=\"1\" class=\"dataframe\">\n",
       "  <thead>\n",
       "    <tr style=\"text-align: right;\">\n",
       "      <th></th>\n",
       "      <th>CARD_SIDO_NM</th>\n",
       "      <th>CARD_CCG_NM</th>\n",
       "      <th>STD_CLSS_NM</th>\n",
       "      <th>HOM_SIDO_NM</th>\n",
       "      <th>HOM_CCG_NM</th>\n",
       "      <th>AGE</th>\n",
       "    </tr>\n",
       "  </thead>\n",
       "  <tbody>\n",
       "    <tr>\n",
       "      <th>count</th>\n",
       "      <td>24697792</td>\n",
       "      <td>24697792</td>\n",
       "      <td>24697792</td>\n",
       "      <td>24697792</td>\n",
       "      <td>24697792</td>\n",
       "      <td>24697792</td>\n",
       "    </tr>\n",
       "    <tr>\n",
       "      <th>unique</th>\n",
       "      <td>17</td>\n",
       "      <td>227</td>\n",
       "      <td>41</td>\n",
       "      <td>17</td>\n",
       "      <td>227</td>\n",
       "      <td>7</td>\n",
       "    </tr>\n",
       "    <tr>\n",
       "      <th>top</th>\n",
       "      <td>서울</td>\n",
       "      <td>중구</td>\n",
       "      <td>한식 음식점업</td>\n",
       "      <td>경기</td>\n",
       "      <td>서구</td>\n",
       "      <td>40s</td>\n",
       "    </tr>\n",
       "    <tr>\n",
       "      <th>freq</th>\n",
       "      <td>6259502</td>\n",
       "      <td>1185474</td>\n",
       "      <td>3697166</td>\n",
       "      <td>6614016</td>\n",
       "      <td>707806</td>\n",
       "      <td>5802447</td>\n",
       "    </tr>\n",
       "  </tbody>\n",
       "</table>\n",
       "</div>"
      ],
      "text/plain": [
       "       CARD_SIDO_NM CARD_CCG_NM STD_CLSS_NM HOM_SIDO_NM HOM_CCG_NM       AGE\n",
       "count      24697792    24697792    24697792    24697792   24697792  24697792\n",
       "unique           17         227          41          17        227         7\n",
       "top              서울          중구     한식 음식점업          경기         서구       40s\n",
       "freq        6259502     1185474     3697166     6614016     707806   5802447"
      ]
     },
     "execution_count": 16,
     "metadata": {},
     "output_type": "execute_result"
    }
   ],
   "source": [
    "# 범주형 변수에 대한 요약통계량\n",
    "credit.describe(exclude=np.number)"
   ]
  },
  {
   "cell_type": "code",
   "execution_count": 8,
   "metadata": {
    "scrolled": true
   },
   "outputs": [
    {
     "data": {
      "text/plain": [
       "array(['강원', '경기', '경남', '경북', '광주', '대구', '대전', '부산', '서울', '세종', '울산',\n",
       "       '인천', '전남', '전북', '제주', '충남', '충북'], dtype=object)"
      ]
     },
     "execution_count": 8,
     "metadata": {},
     "output_type": "execute_result"
    }
   ],
   "source": [
    "# 시도\n",
    "credit['CARD_SIDO_NM'].unique()"
   ]
  },
  {
   "cell_type": "code",
   "execution_count": 9,
   "metadata": {
    "scrolled": true
   },
   "outputs": [
    {
     "data": {
      "text/plain": [
       "array(['강릉시', '속초시', '동해시', '춘천시', '평창군', '성남시 분당구', '안산시 단원구', '용인시 기흥구',\n",
       "       '용인시 수지구', '강남구', '영월군', '원주시', '정선군', '홍천군', '횡성군', '가평군',\n",
       "       '고양시 덕양구', '고양시 일산동구', '고양시 일산서구', '광명시', '광주시', '구리시', '군포시',\n",
       "       '김포시', '남양주시', '부천시', '성남시 수정구', '성남시 중원구', '수원시 권선구', '수원시 영통구',\n",
       "       '수원시 장안구', '수원시 팔달구', '시흥시', '안산시 상록구', '안성시', '안양시 동안구',\n",
       "       '안양시 만안구', '양주시', '양평군', '여주시', '오산시', '용인시 처인구', '의왕시', '의정부시',\n",
       "       '이천시', '파주시', '평택시', '포천시', '하남시', '화성시', '창원시 성산구', '상주시',\n",
       "       '포항시 남구', '달서구', '대덕구', '서구', '유성구', '강동구', '강북구', '강서구', '관악구',\n",
       "       '광진구', '구로구', '금천구', '노원구', '도봉구', '동대문구', '동작구', '마포구', '서대문구',\n",
       "       '서초구', '성동구', '성북구', '송파구', '양천구', '영등포구', '용산구', '은평구', '종로구',\n",
       "       '중구', '중랑구', nan, '계양구', '남구', '남동구', '부평구', '연수구', '아산시',\n",
       "       '천안시 동남구', '천안시 서북구', '괴산군', '제천시', '진천군', '청주시 상당구', '청주시 청원구',\n",
       "       '청주시 흥덕구', '충주시', '포항시 북구', '북구', '고성군', '삼척시', '양양군', '인제군',\n",
       "       '태백시', '김해시', '양산시', '창원시 마산합포구', '창원시 진해구', '경산시', '경주시', '구미시',\n",
       "       '안동시', '울진군', '광산구', '달성군', '동구', '수성구', '금정구', '기장군', '동래구',\n",
       "       '부산진구', '사하구', '해운대구', '목포시', '군산시', '익산시', '전주시 덕진구', '전주시 완산구',\n",
       "       '제주시', '논산시', '당진시', '서산시', '음성군', '청주시 서원구', '과천시', '동두천시',\n",
       "       '창원시 의창구', '영주시', '순천시', '연천군', '진주시', '사상구', '연제구', '계룡시', '공주시',\n",
       "       '철원군', '강화군', '여수시', '울주군', '거제시', '봉화군', '영덕군', '단양군', '양구군',\n",
       "       '화천군', '창원시 마산회원구', '김천시', '예천군', '칠곡군', '수영구', '영도구', '광양시',\n",
       "       '서귀포시', '보령시', '홍성군', '사천시', '통영시', '영천시', '김제시', '서천군', '옥천군',\n",
       "       '증평군', '울릉군', '화순군', '예산군', '완주군', '태안군', '나주시', '창녕군', '정읍시',\n",
       "       '밀양시', '함안군', '담양군', '부안군', '부여군', '의성군', '문경시', '청송군', '영암군',\n",
       "       '남원시', '금산군', '보은군', '산청군', '거창군', '함양군', '고령군', '청도군', '영동군',\n",
       "       '무안군', '해남군', '하동군', '구례군', '완도군', '합천군', '성주군', '장성군', '고창군',\n",
       "       '무주군', '남해군', '군위군', '신안군', '영광군', '임실군', '청양군', '보성군', '옹진군',\n",
       "       '고흥군', '강진군', '진도군', '곡성군', '함평군', '영양군', '장흥군', '진안군', '순창군',\n",
       "       '장수군', '의령군'], dtype=object)"
      ]
     },
     "execution_count": 9,
     "metadata": {},
     "output_type": "execute_result"
    }
   ],
   "source": [
    "# 시군구\n",
    "credit['HOM_CCG_NM'].unique()"
   ]
  },
  {
   "cell_type": "code",
   "execution_count": 17,
   "metadata": {},
   "outputs": [
    {
     "data": {
      "text/html": [
       "<div>\n",
       "<style scoped>\n",
       "    .dataframe tbody tr th:only-of-type {\n",
       "        vertical-align: middle;\n",
       "    }\n",
       "\n",
       "    .dataframe tbody tr th {\n",
       "        vertical-align: top;\n",
       "    }\n",
       "\n",
       "    .dataframe thead th {\n",
       "        text-align: right;\n",
       "    }\n",
       "</style>\n",
       "<table border=\"1\" class=\"dataframe\">\n",
       "  <thead>\n",
       "    <tr style=\"text-align: right;\">\n",
       "      <th></th>\n",
       "      <th>REG_YYMM</th>\n",
       "      <th>SEX_CTGO_CD</th>\n",
       "      <th>FLC</th>\n",
       "      <th>CSTMR_CNT</th>\n",
       "      <th>AMT</th>\n",
       "      <th>CNT</th>\n",
       "      <th>REG_YY</th>\n",
       "      <th>REG_MM</th>\n",
       "      <th>CUST_AMT</th>\n",
       "    </tr>\n",
       "  </thead>\n",
       "  <tbody>\n",
       "    <tr>\n",
       "      <th>count</th>\n",
       "      <td>2.469779e+07</td>\n",
       "      <td>2.469779e+07</td>\n",
       "      <td>2.469779e+07</td>\n",
       "      <td>2.469779e+07</td>\n",
       "      <td>2.469779e+07</td>\n",
       "      <td>2.469779e+07</td>\n",
       "      <td>2.469779e+07</td>\n",
       "      <td>2.469779e+07</td>\n",
       "      <td>2.469779e+07</td>\n",
       "    </tr>\n",
       "    <tr>\n",
       "      <th>mean</th>\n",
       "      <td>2.019231e+05</td>\n",
       "      <td>1.412645e+00</td>\n",
       "      <td>2.804429e+00</td>\n",
       "      <td>6.196855e+01</td>\n",
       "      <td>2.441353e+06</td>\n",
       "      <td>1.260450e+02</td>\n",
       "      <td>2.019173e+03</td>\n",
       "      <td>5.756976e+00</td>\n",
       "      <td>4.284678e+04</td>\n",
       "    </tr>\n",
       "    <tr>\n",
       "      <th>std</th>\n",
       "      <td>3.619561e+01</td>\n",
       "      <td>4.923099e-01</td>\n",
       "      <td>1.375455e+00</td>\n",
       "      <td>3.559175e+02</td>\n",
       "      <td>1.726096e+07</td>\n",
       "      <td>9.669387e+02</td>\n",
       "      <td>3.782353e-01</td>\n",
       "      <td>3.580934e+00</td>\n",
       "      <td>9.679730e+04</td>\n",
       "    </tr>\n",
       "    <tr>\n",
       "      <th>min</th>\n",
       "      <td>2.019010e+05</td>\n",
       "      <td>1.000000e+00</td>\n",
       "      <td>1.000000e+00</td>\n",
       "      <td>3.000000e+00</td>\n",
       "      <td>2.000000e+01</td>\n",
       "      <td>1.000000e+00</td>\n",
       "      <td>2.019000e+03</td>\n",
       "      <td>1.000000e+00</td>\n",
       "      <td>5.000000e+00</td>\n",
       "    </tr>\n",
       "    <tr>\n",
       "      <th>25%</th>\n",
       "      <td>2.019040e+05</td>\n",
       "      <td>1.000000e+00</td>\n",
       "      <td>2.000000e+00</td>\n",
       "      <td>4.000000e+00</td>\n",
       "      <td>9.020000e+04</td>\n",
       "      <td>5.000000e+00</td>\n",
       "      <td>2.019000e+03</td>\n",
       "      <td>2.000000e+00</td>\n",
       "      <td>1.316250e+04</td>\n",
       "    </tr>\n",
       "    <tr>\n",
       "      <th>50%</th>\n",
       "      <td>2.019080e+05</td>\n",
       "      <td>1.000000e+00</td>\n",
       "      <td>3.000000e+00</td>\n",
       "      <td>8.000000e+00</td>\n",
       "      <td>2.526800e+05</td>\n",
       "      <td>1.200000e+01</td>\n",
       "      <td>2.019000e+03</td>\n",
       "      <td>5.000000e+00</td>\n",
       "      <td>2.510667e+04</td>\n",
       "    </tr>\n",
       "    <tr>\n",
       "      <th>75%</th>\n",
       "      <td>2.019110e+05</td>\n",
       "      <td>2.000000e+00</td>\n",
       "      <td>4.000000e+00</td>\n",
       "      <td>2.400000e+01</td>\n",
       "      <td>8.433372e+05</td>\n",
       "      <td>4.000000e+01</td>\n",
       "      <td>2.019000e+03</td>\n",
       "      <td>9.000000e+00</td>\n",
       "      <td>4.946000e+04</td>\n",
       "    </tr>\n",
       "    <tr>\n",
       "      <th>max</th>\n",
       "      <td>2.020030e+05</td>\n",
       "      <td>2.000000e+00</td>\n",
       "      <td>5.000000e+00</td>\n",
       "      <td>3.281300e+04</td>\n",
       "      <td>2.349524e+09</td>\n",
       "      <td>1.203570e+05</td>\n",
       "      <td>2.020000e+03</td>\n",
       "      <td>1.200000e+01</td>\n",
       "      <td>6.934438e+07</td>\n",
       "    </tr>\n",
       "  </tbody>\n",
       "</table>\n",
       "</div>"
      ],
      "text/plain": [
       "           REG_YYMM   SEX_CTGO_CD           FLC     CSTMR_CNT           AMT  \\\n",
       "count  2.469779e+07  2.469779e+07  2.469779e+07  2.469779e+07  2.469779e+07   \n",
       "mean   2.019231e+05  1.412645e+00  2.804429e+00  6.196855e+01  2.441353e+06   \n",
       "std    3.619561e+01  4.923099e-01  1.375455e+00  3.559175e+02  1.726096e+07   \n",
       "min    2.019010e+05  1.000000e+00  1.000000e+00  3.000000e+00  2.000000e+01   \n",
       "25%    2.019040e+05  1.000000e+00  2.000000e+00  4.000000e+00  9.020000e+04   \n",
       "50%    2.019080e+05  1.000000e+00  3.000000e+00  8.000000e+00  2.526800e+05   \n",
       "75%    2.019110e+05  2.000000e+00  4.000000e+00  2.400000e+01  8.433372e+05   \n",
       "max    2.020030e+05  2.000000e+00  5.000000e+00  3.281300e+04  2.349524e+09   \n",
       "\n",
       "                CNT        REG_YY        REG_MM      CUST_AMT  \n",
       "count  2.469779e+07  2.469779e+07  2.469779e+07  2.469779e+07  \n",
       "mean   1.260450e+02  2.019173e+03  5.756976e+00  4.284678e+04  \n",
       "std    9.669387e+02  3.782353e-01  3.580934e+00  9.679730e+04  \n",
       "min    1.000000e+00  2.019000e+03  1.000000e+00  5.000000e+00  \n",
       "25%    5.000000e+00  2.019000e+03  2.000000e+00  1.316250e+04  \n",
       "50%    1.200000e+01  2.019000e+03  5.000000e+00  2.510667e+04  \n",
       "75%    4.000000e+01  2.019000e+03  9.000000e+00  4.946000e+04  \n",
       "max    1.203570e+05  2.020000e+03  1.200000e+01  6.934438e+07  "
      ]
     },
     "execution_count": 17,
     "metadata": {},
     "output_type": "execute_result"
    }
   ],
   "source": [
    "# 수치형 변수에 대한 요약통계량\n",
    "credit.describe()"
   ]
  },
  {
   "cell_type": "markdown",
   "metadata": {},
   "source": [
    "### 3. 데이터 전처리"
   ]
  },
  {
   "cell_type": "markdown",
   "metadata": {},
   "source": [
    "* null data 확인"
   ]
  },
  {
   "cell_type": "code",
   "execution_count": 6,
   "metadata": {
    "scrolled": false
   },
   "outputs": [
    {
     "data": {
      "text/plain": [
       "HOM_CCG_NM      147787\n",
       "CARD_CCG_NM      87213\n",
       "CNT                  0\n",
       "AMT                  0\n",
       "CSTMR_CNT            0\n",
       "FLC                  0\n",
       "SEX_CTGO_CD          0\n",
       "AGE                  0\n",
       "HOM_SIDO_NM          0\n",
       "STD_CLSS_NM          0\n",
       "CARD_SIDO_NM         0\n",
       "REG_YYMM             0\n",
       "dtype: int64"
      ]
     },
     "execution_count": 6,
     "metadata": {},
     "output_type": "execute_result"
    }
   ],
   "source": [
    "credit.isnull().sum().sort_values(ascending=False)"
   ]
  },
  {
   "cell_type": "code",
   "execution_count": 7,
   "metadata": {
    "scrolled": true
   },
   "outputs": [
    {
     "data": {
      "text/plain": [
       "0.00951502061398849"
      ]
     },
     "execution_count": 7,
     "metadata": {},
     "output_type": "execute_result"
    }
   ],
   "source": [
    "# null data 비율 확인\n",
    "(147787+87213)/24697792"
   ]
  },
  {
   "cell_type": "code",
   "execution_count": 3,
   "metadata": {
    "scrolled": false
   },
   "outputs": [
    {
     "data": {
      "text/html": [
       "<div>\n",
       "<style scoped>\n",
       "    .dataframe tbody tr th:only-of-type {\n",
       "        vertical-align: middle;\n",
       "    }\n",
       "\n",
       "    .dataframe tbody tr th {\n",
       "        vertical-align: top;\n",
       "    }\n",
       "\n",
       "    .dataframe thead th {\n",
       "        text-align: right;\n",
       "    }\n",
       "</style>\n",
       "<table border=\"1\" class=\"dataframe\">\n",
       "  <thead>\n",
       "    <tr style=\"text-align: right;\">\n",
       "      <th></th>\n",
       "      <th>REG_YYMM</th>\n",
       "      <th>CARD_SIDO_NM</th>\n",
       "      <th>CARD_CCG_NM</th>\n",
       "      <th>STD_CLSS_NM</th>\n",
       "      <th>HOM_SIDO_NM</th>\n",
       "      <th>HOM_CCG_NM</th>\n",
       "      <th>AGE</th>\n",
       "      <th>SEX_CTGO_CD</th>\n",
       "      <th>FLC</th>\n",
       "      <th>CSTMR_CNT</th>\n",
       "      <th>AMT</th>\n",
       "      <th>CNT</th>\n",
       "    </tr>\n",
       "  </thead>\n",
       "  <tbody>\n",
       "    <tr>\n",
       "      <th>420</th>\n",
       "      <td>201901</td>\n",
       "      <td>강원</td>\n",
       "      <td>강릉시</td>\n",
       "      <td>과실 및 채소 소매업</td>\n",
       "      <td>세종</td>\n",
       "      <td>NaN</td>\n",
       "      <td>30s</td>\n",
       "      <td>1</td>\n",
       "      <td>2</td>\n",
       "      <td>3</td>\n",
       "      <td>58000</td>\n",
       "      <td>3</td>\n",
       "    </tr>\n",
       "    <tr>\n",
       "      <th>421</th>\n",
       "      <td>201901</td>\n",
       "      <td>강원</td>\n",
       "      <td>강릉시</td>\n",
       "      <td>과실 및 채소 소매업</td>\n",
       "      <td>세종</td>\n",
       "      <td>NaN</td>\n",
       "      <td>40s</td>\n",
       "      <td>1</td>\n",
       "      <td>3</td>\n",
       "      <td>3</td>\n",
       "      <td>263000</td>\n",
       "      <td>4</td>\n",
       "    </tr>\n",
       "    <tr>\n",
       "      <th>1189</th>\n",
       "      <td>201901</td>\n",
       "      <td>강원</td>\n",
       "      <td>강릉시</td>\n",
       "      <td>기타 대형 종합 소매업</td>\n",
       "      <td>세종</td>\n",
       "      <td>NaN</td>\n",
       "      <td>20s</td>\n",
       "      <td>1</td>\n",
       "      <td>1</td>\n",
       "      <td>3</td>\n",
       "      <td>176540</td>\n",
       "      <td>3</td>\n",
       "    </tr>\n",
       "    <tr>\n",
       "      <th>1190</th>\n",
       "      <td>201901</td>\n",
       "      <td>강원</td>\n",
       "      <td>강릉시</td>\n",
       "      <td>기타 대형 종합 소매업</td>\n",
       "      <td>세종</td>\n",
       "      <td>NaN</td>\n",
       "      <td>20s</td>\n",
       "      <td>2</td>\n",
       "      <td>1</td>\n",
       "      <td>4</td>\n",
       "      <td>234880</td>\n",
       "      <td>6</td>\n",
       "    </tr>\n",
       "    <tr>\n",
       "      <th>1191</th>\n",
       "      <td>201901</td>\n",
       "      <td>강원</td>\n",
       "      <td>강릉시</td>\n",
       "      <td>기타 대형 종합 소매업</td>\n",
       "      <td>세종</td>\n",
       "      <td>NaN</td>\n",
       "      <td>30s</td>\n",
       "      <td>1</td>\n",
       "      <td>2</td>\n",
       "      <td>4</td>\n",
       "      <td>177640</td>\n",
       "      <td>5</td>\n",
       "    </tr>\n",
       "    <tr>\n",
       "      <th>...</th>\n",
       "      <td>...</td>\n",
       "      <td>...</td>\n",
       "      <td>...</td>\n",
       "      <td>...</td>\n",
       "      <td>...</td>\n",
       "      <td>...</td>\n",
       "      <td>...</td>\n",
       "      <td>...</td>\n",
       "      <td>...</td>\n",
       "      <td>...</td>\n",
       "      <td>...</td>\n",
       "      <td>...</td>\n",
       "    </tr>\n",
       "    <tr>\n",
       "      <th>24697496</th>\n",
       "      <td>202003</td>\n",
       "      <td>충북</td>\n",
       "      <td>충주시</td>\n",
       "      <td>한식 음식점업</td>\n",
       "      <td>세종</td>\n",
       "      <td>NaN</td>\n",
       "      <td>30s</td>\n",
       "      <td>2</td>\n",
       "      <td>2</td>\n",
       "      <td>5</td>\n",
       "      <td>188500</td>\n",
       "      <td>8</td>\n",
       "    </tr>\n",
       "    <tr>\n",
       "      <th>24697497</th>\n",
       "      <td>202003</td>\n",
       "      <td>충북</td>\n",
       "      <td>충주시</td>\n",
       "      <td>한식 음식점업</td>\n",
       "      <td>세종</td>\n",
       "      <td>NaN</td>\n",
       "      <td>40s</td>\n",
       "      <td>1</td>\n",
       "      <td>3</td>\n",
       "      <td>18</td>\n",
       "      <td>1056500</td>\n",
       "      <td>28</td>\n",
       "    </tr>\n",
       "    <tr>\n",
       "      <th>24697498</th>\n",
       "      <td>202003</td>\n",
       "      <td>충북</td>\n",
       "      <td>충주시</td>\n",
       "      <td>한식 음식점업</td>\n",
       "      <td>세종</td>\n",
       "      <td>NaN</td>\n",
       "      <td>50s</td>\n",
       "      <td>1</td>\n",
       "      <td>4</td>\n",
       "      <td>25</td>\n",
       "      <td>770150</td>\n",
       "      <td>35</td>\n",
       "    </tr>\n",
       "    <tr>\n",
       "      <th>24697499</th>\n",
       "      <td>202003</td>\n",
       "      <td>충북</td>\n",
       "      <td>충주시</td>\n",
       "      <td>한식 음식점업</td>\n",
       "      <td>세종</td>\n",
       "      <td>NaN</td>\n",
       "      <td>50s</td>\n",
       "      <td>2</td>\n",
       "      <td>4</td>\n",
       "      <td>4</td>\n",
       "      <td>19500</td>\n",
       "      <td>4</td>\n",
       "    </tr>\n",
       "    <tr>\n",
       "      <th>24697500</th>\n",
       "      <td>202003</td>\n",
       "      <td>충북</td>\n",
       "      <td>충주시</td>\n",
       "      <td>한식 음식점업</td>\n",
       "      <td>세종</td>\n",
       "      <td>NaN</td>\n",
       "      <td>60s</td>\n",
       "      <td>1</td>\n",
       "      <td>5</td>\n",
       "      <td>6</td>\n",
       "      <td>104800</td>\n",
       "      <td>6</td>\n",
       "    </tr>\n",
       "  </tbody>\n",
       "</table>\n",
       "<p>147787 rows × 12 columns</p>\n",
       "</div>"
      ],
      "text/plain": [
       "          REG_YYMM CARD_SIDO_NM CARD_CCG_NM   STD_CLSS_NM HOM_SIDO_NM  \\\n",
       "420         201901           강원         강릉시   과실 및 채소 소매업          세종   \n",
       "421         201901           강원         강릉시   과실 및 채소 소매업          세종   \n",
       "1189        201901           강원         강릉시  기타 대형 종합 소매업          세종   \n",
       "1190        201901           강원         강릉시  기타 대형 종합 소매업          세종   \n",
       "1191        201901           강원         강릉시  기타 대형 종합 소매업          세종   \n",
       "...            ...          ...         ...           ...         ...   \n",
       "24697496    202003           충북         충주시       한식 음식점업          세종   \n",
       "24697497    202003           충북         충주시       한식 음식점업          세종   \n",
       "24697498    202003           충북         충주시       한식 음식점업          세종   \n",
       "24697499    202003           충북         충주시       한식 음식점업          세종   \n",
       "24697500    202003           충북         충주시       한식 음식점업          세종   \n",
       "\n",
       "         HOM_CCG_NM  AGE  SEX_CTGO_CD  FLC  CSTMR_CNT      AMT  CNT  \n",
       "420             NaN  30s            1    2          3    58000    3  \n",
       "421             NaN  40s            1    3          3   263000    4  \n",
       "1189            NaN  20s            1    1          3   176540    3  \n",
       "1190            NaN  20s            2    1          4   234880    6  \n",
       "1191            NaN  30s            1    2          4   177640    5  \n",
       "...             ...  ...          ...  ...        ...      ...  ...  \n",
       "24697496        NaN  30s            2    2          5   188500    8  \n",
       "24697497        NaN  40s            1    3         18  1056500   28  \n",
       "24697498        NaN  50s            1    4         25   770150   35  \n",
       "24697499        NaN  50s            2    4          4    19500    4  \n",
       "24697500        NaN  60s            1    5          6   104800    6  \n",
       "\n",
       "[147787 rows x 12 columns]"
      ]
     },
     "execution_count": 3,
     "metadata": {},
     "output_type": "execute_result"
    }
   ],
   "source": [
    "# HOM_CCG_NM NaN 행 추출\n",
    "credit[credit['HOM_CCG_NM'].isnull()]"
   ]
  },
  {
   "cell_type": "code",
   "execution_count": 4,
   "metadata": {
    "scrolled": false
   },
   "outputs": [
    {
     "data": {
      "text/html": [
       "<div>\n",
       "<style scoped>\n",
       "    .dataframe tbody tr th:only-of-type {\n",
       "        vertical-align: middle;\n",
       "    }\n",
       "\n",
       "    .dataframe tbody tr th {\n",
       "        vertical-align: top;\n",
       "    }\n",
       "\n",
       "    .dataframe thead th {\n",
       "        text-align: right;\n",
       "    }\n",
       "</style>\n",
       "<table border=\"1\" class=\"dataframe\">\n",
       "  <thead>\n",
       "    <tr style=\"text-align: right;\">\n",
       "      <th></th>\n",
       "      <th>REG_YYMM</th>\n",
       "      <th>CARD_SIDO_NM</th>\n",
       "      <th>CARD_CCG_NM</th>\n",
       "      <th>STD_CLSS_NM</th>\n",
       "      <th>HOM_SIDO_NM</th>\n",
       "      <th>HOM_CCG_NM</th>\n",
       "      <th>AGE</th>\n",
       "      <th>SEX_CTGO_CD</th>\n",
       "      <th>FLC</th>\n",
       "      <th>CSTMR_CNT</th>\n",
       "      <th>AMT</th>\n",
       "      <th>CNT</th>\n",
       "    </tr>\n",
       "  </thead>\n",
       "  <tbody>\n",
       "    <tr>\n",
       "      <th>1243710</th>\n",
       "      <td>201901</td>\n",
       "      <td>세종</td>\n",
       "      <td>NaN</td>\n",
       "      <td>건강보조식품 소매업</td>\n",
       "      <td>세종</td>\n",
       "      <td>NaN</td>\n",
       "      <td>30s</td>\n",
       "      <td>1</td>\n",
       "      <td>2</td>\n",
       "      <td>14</td>\n",
       "      <td>2737050</td>\n",
       "      <td>17</td>\n",
       "    </tr>\n",
       "    <tr>\n",
       "      <th>1243711</th>\n",
       "      <td>201901</td>\n",
       "      <td>세종</td>\n",
       "      <td>NaN</td>\n",
       "      <td>건강보조식품 소매업</td>\n",
       "      <td>세종</td>\n",
       "      <td>NaN</td>\n",
       "      <td>30s</td>\n",
       "      <td>2</td>\n",
       "      <td>2</td>\n",
       "      <td>14</td>\n",
       "      <td>2595350</td>\n",
       "      <td>14</td>\n",
       "    </tr>\n",
       "    <tr>\n",
       "      <th>1243712</th>\n",
       "      <td>201901</td>\n",
       "      <td>세종</td>\n",
       "      <td>NaN</td>\n",
       "      <td>건강보조식품 소매업</td>\n",
       "      <td>세종</td>\n",
       "      <td>NaN</td>\n",
       "      <td>40s</td>\n",
       "      <td>1</td>\n",
       "      <td>3</td>\n",
       "      <td>13</td>\n",
       "      <td>2531950</td>\n",
       "      <td>11</td>\n",
       "    </tr>\n",
       "    <tr>\n",
       "      <th>1243713</th>\n",
       "      <td>201901</td>\n",
       "      <td>세종</td>\n",
       "      <td>NaN</td>\n",
       "      <td>건강보조식품 소매업</td>\n",
       "      <td>세종</td>\n",
       "      <td>NaN</td>\n",
       "      <td>40s</td>\n",
       "      <td>2</td>\n",
       "      <td>3</td>\n",
       "      <td>11</td>\n",
       "      <td>2118425</td>\n",
       "      <td>12</td>\n",
       "    </tr>\n",
       "    <tr>\n",
       "      <th>1243714</th>\n",
       "      <td>201901</td>\n",
       "      <td>세종</td>\n",
       "      <td>NaN</td>\n",
       "      <td>건강보조식품 소매업</td>\n",
       "      <td>세종</td>\n",
       "      <td>NaN</td>\n",
       "      <td>50s</td>\n",
       "      <td>1</td>\n",
       "      <td>4</td>\n",
       "      <td>21</td>\n",
       "      <td>3025500</td>\n",
       "      <td>23</td>\n",
       "    </tr>\n",
       "    <tr>\n",
       "      <th>...</th>\n",
       "      <td>...</td>\n",
       "      <td>...</td>\n",
       "      <td>...</td>\n",
       "      <td>...</td>\n",
       "      <td>...</td>\n",
       "      <td>...</td>\n",
       "      <td>...</td>\n",
       "      <td>...</td>\n",
       "      <td>...</td>\n",
       "      <td>...</td>\n",
       "      <td>...</td>\n",
       "      <td>...</td>\n",
       "    </tr>\n",
       "    <tr>\n",
       "      <th>24409418</th>\n",
       "      <td>202003</td>\n",
       "      <td>세종</td>\n",
       "      <td>NaN</td>\n",
       "      <td>화장품 및 방향제 소매업</td>\n",
       "      <td>충북</td>\n",
       "      <td>청주시 흥덕구</td>\n",
       "      <td>40s</td>\n",
       "      <td>2</td>\n",
       "      <td>3</td>\n",
       "      <td>5</td>\n",
       "      <td>88700</td>\n",
       "      <td>5</td>\n",
       "    </tr>\n",
       "    <tr>\n",
       "      <th>24409419</th>\n",
       "      <td>202003</td>\n",
       "      <td>세종</td>\n",
       "      <td>NaN</td>\n",
       "      <td>화장품 및 방향제 소매업</td>\n",
       "      <td>충북</td>\n",
       "      <td>청주시 흥덕구</td>\n",
       "      <td>50s</td>\n",
       "      <td>1</td>\n",
       "      <td>4</td>\n",
       "      <td>3</td>\n",
       "      <td>62400</td>\n",
       "      <td>3</td>\n",
       "    </tr>\n",
       "    <tr>\n",
       "      <th>24409420</th>\n",
       "      <td>202003</td>\n",
       "      <td>세종</td>\n",
       "      <td>NaN</td>\n",
       "      <td>화장품 및 방향제 소매업</td>\n",
       "      <td>충북</td>\n",
       "      <td>청주시 흥덕구</td>\n",
       "      <td>50s</td>\n",
       "      <td>2</td>\n",
       "      <td>4</td>\n",
       "      <td>10</td>\n",
       "      <td>494800</td>\n",
       "      <td>11</td>\n",
       "    </tr>\n",
       "    <tr>\n",
       "      <th>24409421</th>\n",
       "      <td>202003</td>\n",
       "      <td>세종</td>\n",
       "      <td>NaN</td>\n",
       "      <td>화장품 및 방향제 소매업</td>\n",
       "      <td>충북</td>\n",
       "      <td>청주시 흥덕구</td>\n",
       "      <td>60s</td>\n",
       "      <td>2</td>\n",
       "      <td>5</td>\n",
       "      <td>10</td>\n",
       "      <td>623100</td>\n",
       "      <td>10</td>\n",
       "    </tr>\n",
       "    <tr>\n",
       "      <th>24409422</th>\n",
       "      <td>202003</td>\n",
       "      <td>세종</td>\n",
       "      <td>NaN</td>\n",
       "      <td>화장품 및 방향제 소매업</td>\n",
       "      <td>충북</td>\n",
       "      <td>청주시 흥덕구</td>\n",
       "      <td>70s</td>\n",
       "      <td>2</td>\n",
       "      <td>5</td>\n",
       "      <td>3</td>\n",
       "      <td>28000</td>\n",
       "      <td>3</td>\n",
       "    </tr>\n",
       "  </tbody>\n",
       "</table>\n",
       "<p>87213 rows × 12 columns</p>\n",
       "</div>"
      ],
      "text/plain": [
       "          REG_YYMM CARD_SIDO_NM CARD_CCG_NM    STD_CLSS_NM HOM_SIDO_NM  \\\n",
       "1243710     201901           세종         NaN     건강보조식품 소매업          세종   \n",
       "1243711     201901           세종         NaN     건강보조식품 소매업          세종   \n",
       "1243712     201901           세종         NaN     건강보조식품 소매업          세종   \n",
       "1243713     201901           세종         NaN     건강보조식품 소매업          세종   \n",
       "1243714     201901           세종         NaN     건강보조식품 소매업          세종   \n",
       "...            ...          ...         ...            ...         ...   \n",
       "24409418    202003           세종         NaN  화장품 및 방향제 소매업          충북   \n",
       "24409419    202003           세종         NaN  화장품 및 방향제 소매업          충북   \n",
       "24409420    202003           세종         NaN  화장품 및 방향제 소매업          충북   \n",
       "24409421    202003           세종         NaN  화장품 및 방향제 소매업          충북   \n",
       "24409422    202003           세종         NaN  화장품 및 방향제 소매업          충북   \n",
       "\n",
       "         HOM_CCG_NM  AGE  SEX_CTGO_CD  FLC  CSTMR_CNT      AMT  CNT  \n",
       "1243710         NaN  30s            1    2         14  2737050   17  \n",
       "1243711         NaN  30s            2    2         14  2595350   14  \n",
       "1243712         NaN  40s            1    3         13  2531950   11  \n",
       "1243713         NaN  40s            2    3         11  2118425   12  \n",
       "1243714         NaN  50s            1    4         21  3025500   23  \n",
       "...             ...  ...          ...  ...        ...      ...  ...  \n",
       "24409418    청주시 흥덕구  40s            2    3          5    88700    5  \n",
       "24409419    청주시 흥덕구  50s            1    4          3    62400    3  \n",
       "24409420    청주시 흥덕구  50s            2    4         10   494800   11  \n",
       "24409421    청주시 흥덕구  60s            2    5         10   623100   10  \n",
       "24409422    청주시 흥덕구  70s            2    5          3    28000    3  \n",
       "\n",
       "[87213 rows x 12 columns]"
      ]
     },
     "execution_count": 4,
     "metadata": {},
     "output_type": "execute_result"
    }
   ],
   "source": [
    "# CARD_CCG_NM NaN 행 추출\n",
    "credit[credit['CARD_CCG_NM'].isnull()]"
   ]
  },
  {
   "cell_type": "markdown",
   "metadata": {},
   "source": [
    "세종시의 경우 시군구가 NaN으로 입력되어 있는 것 확인"
   ]
  },
  {
   "cell_type": "code",
   "execution_count": 3,
   "metadata": {},
   "outputs": [],
   "source": [
    "credit = credit.fillna('세종')"
   ]
  },
  {
   "cell_type": "markdown",
   "metadata": {},
   "source": [
    "* 년월 분리"
   ]
  },
  {
   "cell_type": "code",
   "execution_count": 37,
   "metadata": {},
   "outputs": [
    {
     "data": {
      "text/plain": [
       "0           201901\n",
       "1           201901\n",
       "2           201901\n",
       "3           201901\n",
       "4           201901\n",
       "             ...  \n",
       "24697787    202003\n",
       "24697788    202003\n",
       "24697789    202003\n",
       "24697790    202003\n",
       "24697791    202003\n",
       "Name: REG_YYMM, Length: 24697792, dtype: int64"
      ]
     },
     "execution_count": 37,
     "metadata": {},
     "output_type": "execute_result"
    }
   ],
   "source": [
    "credit['REG_YYMM']"
   ]
  },
  {
   "cell_type": "code",
   "execution_count": 4,
   "metadata": {},
   "outputs": [],
   "source": [
    "# 년, 월 변수 생성\n",
    "credit['REG_YY'] = 0\n",
    "credit['REG_MM'] = 0"
   ]
  },
  {
   "cell_type": "code",
   "execution_count": 5,
   "metadata": {},
   "outputs": [],
   "source": [
    "credit['REG_YY']=pd.to_datetime(credit['REG_YYMM'],format='%Y%m').dt.year\n",
    "credit['REG_MM']=pd.to_datetime(credit['REG_YYMM'],format='%Y%m').dt.month"
   ]
  },
  {
   "cell_type": "code",
   "execution_count": 8,
   "metadata": {
    "scrolled": true
   },
   "outputs": [
    {
     "data": {
      "text/html": [
       "<div>\n",
       "<style scoped>\n",
       "    .dataframe tbody tr th:only-of-type {\n",
       "        vertical-align: middle;\n",
       "    }\n",
       "\n",
       "    .dataframe tbody tr th {\n",
       "        vertical-align: top;\n",
       "    }\n",
       "\n",
       "    .dataframe thead th {\n",
       "        text-align: right;\n",
       "    }\n",
       "</style>\n",
       "<table border=\"1\" class=\"dataframe\">\n",
       "  <thead>\n",
       "    <tr style=\"text-align: right;\">\n",
       "      <th></th>\n",
       "      <th>REG_YYMM</th>\n",
       "      <th>CARD_SIDO_NM</th>\n",
       "      <th>CARD_CCG_NM</th>\n",
       "      <th>STD_CLSS_NM</th>\n",
       "      <th>HOM_SIDO_NM</th>\n",
       "      <th>HOM_CCG_NM</th>\n",
       "      <th>AGE</th>\n",
       "      <th>SEX_CTGO_CD</th>\n",
       "      <th>FLC</th>\n",
       "      <th>CSTMR_CNT</th>\n",
       "      <th>AMT</th>\n",
       "      <th>CNT</th>\n",
       "      <th>REG_YY</th>\n",
       "      <th>REG_MM</th>\n",
       "    </tr>\n",
       "  </thead>\n",
       "  <tbody>\n",
       "    <tr>\n",
       "      <th>24697787</th>\n",
       "      <td>202003</td>\n",
       "      <td>충북</td>\n",
       "      <td>충주시</td>\n",
       "      <td>휴양콘도 운영업</td>\n",
       "      <td>충북</td>\n",
       "      <td>충주시</td>\n",
       "      <td>30s</td>\n",
       "      <td>1</td>\n",
       "      <td>2</td>\n",
       "      <td>3</td>\n",
       "      <td>43300</td>\n",
       "      <td>4</td>\n",
       "      <td>2020</td>\n",
       "      <td>3</td>\n",
       "    </tr>\n",
       "    <tr>\n",
       "      <th>24697788</th>\n",
       "      <td>202003</td>\n",
       "      <td>충북</td>\n",
       "      <td>충주시</td>\n",
       "      <td>휴양콘도 운영업</td>\n",
       "      <td>충북</td>\n",
       "      <td>충주시</td>\n",
       "      <td>40s</td>\n",
       "      <td>1</td>\n",
       "      <td>3</td>\n",
       "      <td>3</td>\n",
       "      <td>35000</td>\n",
       "      <td>3</td>\n",
       "      <td>2020</td>\n",
       "      <td>3</td>\n",
       "    </tr>\n",
       "    <tr>\n",
       "      <th>24697789</th>\n",
       "      <td>202003</td>\n",
       "      <td>충북</td>\n",
       "      <td>충주시</td>\n",
       "      <td>휴양콘도 운영업</td>\n",
       "      <td>충북</td>\n",
       "      <td>충주시</td>\n",
       "      <td>50s</td>\n",
       "      <td>1</td>\n",
       "      <td>4</td>\n",
       "      <td>4</td>\n",
       "      <td>188000</td>\n",
       "      <td>6</td>\n",
       "      <td>2020</td>\n",
       "      <td>3</td>\n",
       "    </tr>\n",
       "    <tr>\n",
       "      <th>24697790</th>\n",
       "      <td>202003</td>\n",
       "      <td>충북</td>\n",
       "      <td>충주시</td>\n",
       "      <td>휴양콘도 운영업</td>\n",
       "      <td>충북</td>\n",
       "      <td>충주시</td>\n",
       "      <td>50s</td>\n",
       "      <td>2</td>\n",
       "      <td>4</td>\n",
       "      <td>4</td>\n",
       "      <td>99000</td>\n",
       "      <td>6</td>\n",
       "      <td>2020</td>\n",
       "      <td>3</td>\n",
       "    </tr>\n",
       "    <tr>\n",
       "      <th>24697791</th>\n",
       "      <td>202003</td>\n",
       "      <td>충북</td>\n",
       "      <td>충주시</td>\n",
       "      <td>휴양콘도 운영업</td>\n",
       "      <td>충북</td>\n",
       "      <td>충주시</td>\n",
       "      <td>60s</td>\n",
       "      <td>1</td>\n",
       "      <td>5</td>\n",
       "      <td>3</td>\n",
       "      <td>194000</td>\n",
       "      <td>3</td>\n",
       "      <td>2020</td>\n",
       "      <td>3</td>\n",
       "    </tr>\n",
       "  </tbody>\n",
       "</table>\n",
       "</div>"
      ],
      "text/plain": [
       "          REG_YYMM CARD_SIDO_NM CARD_CCG_NM STD_CLSS_NM HOM_SIDO_NM  \\\n",
       "24697787    202003           충북         충주시    휴양콘도 운영업          충북   \n",
       "24697788    202003           충북         충주시    휴양콘도 운영업          충북   \n",
       "24697789    202003           충북         충주시    휴양콘도 운영업          충북   \n",
       "24697790    202003           충북         충주시    휴양콘도 운영업          충북   \n",
       "24697791    202003           충북         충주시    휴양콘도 운영업          충북   \n",
       "\n",
       "         HOM_CCG_NM  AGE  SEX_CTGO_CD  FLC  CSTMR_CNT     AMT  CNT  REG_YY  \\\n",
       "24697787        충주시  30s            1    2          3   43300    4    2020   \n",
       "24697788        충주시  40s            1    3          3   35000    3    2020   \n",
       "24697789        충주시  50s            1    4          4  188000    6    2020   \n",
       "24697790        충주시  50s            2    4          4   99000    6    2020   \n",
       "24697791        충주시  60s            1    5          3  194000    3    2020   \n",
       "\n",
       "          REG_MM  \n",
       "24697787       3  \n",
       "24697788       3  \n",
       "24697789       3  \n",
       "24697790       3  \n",
       "24697791       3  "
      ]
     },
     "execution_count": 8,
     "metadata": {},
     "output_type": "execute_result"
    }
   ],
   "source": [
    "credit.tail()"
   ]
  },
  {
   "cell_type": "markdown",
   "metadata": {},
   "source": [
    "# EDA"
   ]
  },
  {
   "cell_type": "code",
   "execution_count": 6,
   "metadata": {},
   "outputs": [],
   "source": [
    "import matplotlib.pyplot as plt\n",
    "import seaborn as sns"
   ]
  },
  {
   "cell_type": "markdown",
   "metadata": {},
   "source": [
    "**변수 설명**\n",
    "1. REG_YYMM: 년월\n",
    "2. CARD_SIDO_NM: 카드이용지역_시도 (가맹점 주소 기준)\n",
    "3. CARD_CCG_NM: 카드이용지역_시군구 (가맹점 주소 기준)\n",
    "4. STD_CLSS_NM: 업종명\n",
    "5. HOM_SIDO_NM: 거주지역_시도 (고객 집주소 기준)\n",
    "6. HOM_CCG_NM: 거주지역_시군구 (고객 집주소 기준)\n",
    "7. AGE: 연령대\n",
    "8. SEX_CTGO_CD: 성별 (1: 남성, 2: 여성)\n",
    "9. FLC: 가구생애주기 (1: 1인가구, 2: 영유아자녀가구, 3: 중고생자녀가구, 4: 성인자녀가구, 5: 노년가구)\n",
    "10. CSTMR_CNT: 이용고객수 (명)\n",
    "11. AMT: 이용금액 (원)\n",
    "12. CNT: 이용건수 (건)"
   ]
  },
  {
   "cell_type": "markdown",
   "metadata": {},
   "source": [
    "**새로운 변수 생성**"
   ]
  },
  {
   "cell_type": "markdown",
   "metadata": {},
   "source": [
    "13. CUST_AMT: 객단가/고객 단위 이용매출 (AMT/CSTMR_CNT)"
   ]
  },
  {
   "cell_type": "code",
   "execution_count": 7,
   "metadata": {},
   "outputs": [],
   "source": [
    "credit['CUST_AMT'] = credit['AMT']/credit['CSTMR_CNT']"
   ]
  },
  {
   "cell_type": "markdown",
   "metadata": {},
   "source": [
    "* 설명변수와 객단가의 상관관계"
   ]
  },
  {
   "cell_type": "code",
   "execution_count": 11,
   "metadata": {
    "scrolled": false
   },
   "outputs": [
    {
     "data": {
      "text/plain": [
       "<matplotlib.axes._subplots.AxesSubplot at 0x25b72828c48>"
      ]
     },
     "execution_count": 11,
     "metadata": {},
     "output_type": "execute_result"
    },
    {
     "data": {
      "image/png": "[encoded data removed]",
      "text/plain": [
       "<Figure size 432x288 with 1 Axes>"
      ]
     },
     "metadata": {
      "needs_background": "light"
     },
     "output_type": "display_data"
    }
   ],
   "source": [
    "# 년월에 따른 객단가\n",
    "plt.xticks(rotation=45)\n",
    "sns.barplot(x='REG_YYMM', y='CUST_AMT', data=credit, ci=None)"
   ]
  },
  {
   "cell_type": "code",
   "execution_count": 8,
   "metadata": {},
   "outputs": [
    {
     "data": {
      "text/plain": [
       "['STIXGeneral',\n",
       " 'STIXSizeFiveSym',\n",
       " 'STIXSizeFourSym',\n",
       " 'DejaVu Serif',\n",
       " 'DejaVu Sans',\n",
       " 'DejaVu Sans Mono',\n",
       " 'STIXSizeTwoSym',\n",
       " 'DejaVu Sans Display',\n",
       " 'DejaVu Sans Mono',\n",
       " 'STIXNonUnicode',\n",
       " 'STIXGeneral',\n",
       " 'STIXSizeFourSym',\n",
       " 'cmr10',\n",
       " 'DejaVu Sans Mono',\n",
       " 'STIXNonUnicode',\n",
       " 'STIXSizeThreeSym',\n",
       " 'DejaVu Sans Mono',\n",
       " 'cmss10',\n",
       " 'cmsy10',\n",
       " 'STIXGeneral',\n",
       " 'STIXGeneral',\n",
       " 'STIXSizeTwoSym',\n",
       " 'STIXNonUnicode',\n",
       " 'DejaVu Sans',\n",
       " 'DejaVu Sans',\n",
       " 'DejaVu Serif',\n",
       " 'DejaVu Serif',\n",
       " 'DejaVu Serif Display',\n",
       " 'cmex10',\n",
       " 'cmb10',\n",
       " 'STIXSizeOneSym',\n",
       " 'STIXNonUnicode',\n",
       " 'cmtt10',\n",
       " 'STIXSizeOneSym',\n",
       " 'DejaVu Sans',\n",
       " 'DejaVu Serif',\n",
       " 'STIXSizeThreeSym',\n",
       " 'cmmi10',\n",
       " 'Niagara Engraved',\n",
       " 'Nirmala UI',\n",
       " 'Trebuchet MS',\n",
       " 'Ebrima',\n",
       " 'Corbel',\n",
       " 'HYPost-Light',\n",
       " 'Trebuchet MS',\n",
       " 'Segoe UI',\n",
       " 'Elephant',\n",
       " 'Franklin Gothic Book',\n",
       " 'Tw Cen MT',\n",
       " 'Candara',\n",
       " 'Gloucester MT Extra Condensed',\n",
       " 'Castellar',\n",
       " 'Jokerman',\n",
       " 'Dubai',\n",
       " 'Arial',\n",
       " 'Papyrus',\n",
       " 'STLiti',\n",
       " 'MT Extra',\n",
       " 'Microsoft Uighur',\n",
       " 'Lucida Console',\n",
       " 'Book Antiqua',\n",
       " 'Gadugi',\n",
       " 'Centaur',\n",
       " 'Candara',\n",
       " 'Segoe UI',\n",
       " 'Times New Roman',\n",
       " 'Segoe UI Emoji',\n",
       " 'Perpetua',\n",
       " 'Segoe Print',\n",
       " 'STXihei',\n",
       " 'Wingdings 2',\n",
       " 'Bell MT',\n",
       " 'Viner Hand ITC',\n",
       " 'Tw Cen MT Condensed',\n",
       " 'Segoe UI',\n",
       " 'Sitka Small',\n",
       " 'Arial Rounded MT Bold',\n",
       " 'Matura MT Script Capitals',\n",
       " 'Trebuchet MS',\n",
       " 'Cambria',\n",
       " 'Rockwell',\n",
       " 'GyeonggiTitleV',\n",
       " 'Snap ITC',\n",
       " 'Constantia',\n",
       " 'Franklin Gothic Heavy',\n",
       " 'MSugiHeulim',\n",
       " 'Yu Gothic',\n",
       " 'Rockwell Extra Bold',\n",
       " 'Segoe UI Historic',\n",
       " 'Microsoft Uighur',\n",
       " 'GyeonggiTitle',\n",
       " 'Gill Sans Ultra Bold Condensed',\n",
       " 'Tahoma',\n",
       " 'Headline R',\n",
       " 'Courier New',\n",
       " 'Bodoni MT',\n",
       " 'Rockwell',\n",
       " 'Lucida Sans Typewriter',\n",
       " 'Vladimir Script',\n",
       " 'MJemokGothic',\n",
       " 'Magneto',\n",
       " 'Georgia',\n",
       " 'Goudy Old Style',\n",
       " 'Berlin Sans FB',\n",
       " 'Century Gothic',\n",
       " 'Bodoni MT',\n",
       " 'HyhwpEQ',\n",
       " 'Palatino Linotype',\n",
       " 'Arial',\n",
       " 'MS Reference Sans Serif',\n",
       " 'HCR Batang',\n",
       " 'Bookman Old Style',\n",
       " 'Perpetua',\n",
       " 'Yu Gothic',\n",
       " 'Bookman Old Style',\n",
       " 'Pyunji R',\n",
       " 'Garamond',\n",
       " 'Stencil',\n",
       " 'HYHeadLine-Medium',\n",
       " 'Harlow Solid Italic',\n",
       " '?? ??? ?L',\n",
       " 'FZYaoTi',\n",
       " 'Cooper Black',\n",
       " 'Lucida Bright',\n",
       " 'Showcard Gothic',\n",
       " 'Candara',\n",
       " 'Lucida Fax',\n",
       " 'Calisto MT',\n",
       " 'Palace Script MT',\n",
       " 'Bahnschrift',\n",
       " 'Imprint MT Shadow',\n",
       " 'Consolas',\n",
       " 'Tempus Sans ITC',\n",
       " 'Engravers MT',\n",
       " 'Onyx',\n",
       " 'Segoe UI',\n",
       " 'Calisto MT',\n",
       " 'Impact',\n",
       " 'Franklin Gothic Demi',\n",
       " 'Book Antiqua',\n",
       " 'Wingdings',\n",
       " 'Gill Sans MT',\n",
       " 'Calibri',\n",
       " 'Arial',\n",
       " 'HCR Batang ExtB',\n",
       " 'Calisto MT',\n",
       " 'Franklin Gothic Demi Cond',\n",
       " 'Bodoni MT',\n",
       " 'Constantia',\n",
       " 'STSong',\n",
       " 'Century Gothic',\n",
       " 'Cambria',\n",
       " 'Informal Roman',\n",
       " '?? ??? ?B',\n",
       " 'Broadway',\n",
       " 'Colonna MT',\n",
       " 'Playbill',\n",
       " 'FZShuTi',\n",
       " 'Rockwell',\n",
       " 'HYMyeongJo-Extra',\n",
       " 'MDotum',\n",
       " 'HCR Dotum Ext',\n",
       " 'Yu Gothic',\n",
       " 'Agency FB',\n",
       " 'Candara',\n",
       " 'Bodoni MT',\n",
       " 'STKaiti',\n",
       " 'Marlett',\n",
       " 'OCR A Extended',\n",
       " 'Georgia',\n",
       " 'Verdana',\n",
       " 'Tw Cen MT Condensed',\n",
       " '?? ??? ?L',\n",
       " 'Calibri',\n",
       " 'Forte',\n",
       " 'GyeonggiBatang',\n",
       " 'Century Gothic',\n",
       " 'Rage Italic',\n",
       " 'Bernard MT Condensed',\n",
       " 'Microsoft JhengHei',\n",
       " 'Microsoft Himalaya',\n",
       " 'Lucida Sans',\n",
       " 'NanumSquare_ac',\n",
       " 'Ami R',\n",
       " 'Bookman Old Style',\n",
       " 'Comic Sans MS',\n",
       " 'Century Schoolbook',\n",
       " 'Script MT Bold',\n",
       " 'Ravie',\n",
       " 'Consolas',\n",
       " 'Segoe Script',\n",
       " 'MHunmin',\n",
       " 'Malgun Gothic',\n",
       " 'Californian FB',\n",
       " 'Rockwell Condensed',\n",
       " 'Corbel',\n",
       " 'Corbel',\n",
       " 'Calisto MT',\n",
       " 'GyeonggiTitle',\n",
       " 'Bodoni MT',\n",
       " 'STXinwei',\n",
       " 'Bodoni MT',\n",
       " 'Sylfaen',\n",
       " 'HCR Dotum',\n",
       " 'Bradley Hand ITC',\n",
       " 'Javanese Text',\n",
       " 'Arial',\n",
       " 'Leelawadee UI',\n",
       " 'Comic Sans MS',\n",
       " 'Baskerville Old Face',\n",
       " 'Candara',\n",
       " 'Comic Sans MS',\n",
       " 'Freestyle Script',\n",
       " 'Gill Sans Ultra Bold',\n",
       " 'STXingkai',\n",
       " 'Segoe UI',\n",
       " 'Gill Sans MT Condensed',\n",
       " 'Elephant',\n",
       " '?? ??? ?B',\n",
       " 'Calibri',\n",
       " 'Californian FB',\n",
       " 'Century Schoolbook',\n",
       " 'Times New Roman',\n",
       " 'Lucida Sans Typewriter',\n",
       " 'Calibri',\n",
       " 'Comic Sans MS',\n",
       " 'Yu Gothic',\n",
       " 'Corbel',\n",
       " 'Microsoft YaHei',\n",
       " 'Times New Roman',\n",
       " 'Eras Bold ITC',\n",
       " 'Book Antiqua',\n",
       " 'Gill Sans MT',\n",
       " 'Segoe UI',\n",
       " 'Franklin Gothic Medium',\n",
       " 'HCR Batang',\n",
       " 'Franklin Gothic Demi',\n",
       " 'Blackadder ITC',\n",
       " 'Lucida Calligraphy',\n",
       " 'MBatang',\n",
       " '?? ??? ?R',\n",
       " 'Myanmar Text',\n",
       " 'Arial',\n",
       " 'Cambria',\n",
       " 'Lucida Sans Typewriter',\n",
       " 'Gadugi',\n",
       " 'Book Antiqua',\n",
       " 'Consolas',\n",
       " 'Malgun Gothic',\n",
       " 'Garamond',\n",
       " 'Modern No. 20',\n",
       " 'Segoe UI',\n",
       " 'Goudy Old Style',\n",
       " 'Pristina',\n",
       " 'Microsoft Tai Le',\n",
       " 'Lucida Fax',\n",
       " 'Leelawadee',\n",
       " 'MS Reference Specialty',\n",
       " 'STHupo',\n",
       " 'Palatino Linotype',\n",
       " 'Lucida Bright',\n",
       " 'Mistral',\n",
       " 'Felix Titling',\n",
       " 'Lucida Fax',\n",
       " 'Lucida Bright',\n",
       " 'MingLiU-ExtB',\n",
       " 'Lucida Fax',\n",
       " 'Goudy Old Style',\n",
       " 'Segoe UI',\n",
       " 'Footlight MT Light',\n",
       " 'Microsoft YaHei',\n",
       " 'Ebrima',\n",
       " 'Parchment',\n",
       " 'Nirmala UI',\n",
       " 'Palatino Linotype',\n",
       " 'Constantia',\n",
       " 'HYPMokGak-Bold',\n",
       " 'Constantia',\n",
       " 'Ink Free',\n",
       " 'Segoe UI',\n",
       " 'Palatino Linotype',\n",
       " 'Perpetua',\n",
       " 'Berlin Sans FB Demi',\n",
       " 'Goudy Stout',\n",
       " 'Segoe MDL2 Assets',\n",
       " 'HCR Batang Ext',\n",
       " 'Segoe UI Symbol',\n",
       " 'Century',\n",
       " 'Harrington',\n",
       " 'GyeonggiBatang',\n",
       " 'STCaiyun',\n",
       " 'Perpetua Titling MT',\n",
       " 'Microsoft JhengHei',\n",
       " 'HCR Batang ExtB',\n",
       " 'GyeonggiTitle',\n",
       " 'Verdana',\n",
       " 'Rockwell Condensed',\n",
       " 'Gigi',\n",
       " 'Lucida Handwriting',\n",
       " 'Eras Demi ITC',\n",
       " 'Brush Script MT',\n",
       " 'Microsoft Tai Le',\n",
       " 'HoloLens MDL2 Assets',\n",
       " 'Gill Sans MT',\n",
       " 'Chiller',\n",
       " 'Tw Cen MT Condensed Extra Bold',\n",
       " 'Nirmala UI',\n",
       " 'Sitka Small',\n",
       " 'Haettenschweiler',\n",
       " 'Segoe UI',\n",
       " 'MGungHeulim',\n",
       " 'Bodoni MT',\n",
       " 'Segoe Script',\n",
       " 'Lucida Sans',\n",
       " 'Corbel',\n",
       " 'Verdana',\n",
       " 'Microsoft Yi Baiti',\n",
       " 'Agency FB',\n",
       " 'Microsoft YaHei',\n",
       " 'Microsoft JhengHei',\n",
       " 'Wingdings 3',\n",
       " 'Britannic Bold',\n",
       " 'MS Outlook',\n",
       " 'Tw Cen MT',\n",
       " 'MGungJeong',\n",
       " 'Tw Cen MT',\n",
       " 'Bookman Old Style',\n",
       " 'Courier New',\n",
       " 'Perpetua Titling MT',\n",
       " 'Copperplate Gothic Light',\n",
       " 'Kristen ITC',\n",
       " 'Eras Light ITC',\n",
       " 'Verdana',\n",
       " 'Lucida Sans Typewriter',\n",
       " 'Dubai',\n",
       " 'Berlin Sans FB',\n",
       " 'Lucida Sans',\n",
       " 'HYSinMyeongJo-Medium',\n",
       " 'Garamond',\n",
       " 'Bauhaus 93',\n",
       " 'Tahoma',\n",
       " 'Algerian',\n",
       " 'Gulim',\n",
       " 'Gill Sans MT Ext Condensed Bold',\n",
       " 'Vivaldi',\n",
       " 'Sitka Small',\n",
       " 'Wide Latin',\n",
       " 'Microsoft PhagsPa',\n",
       " 'MoeumT R',\n",
       " 'MV Boli',\n",
       " 'Microsoft Sans Serif',\n",
       " 'Bell MT',\n",
       " 'Bell MT',\n",
       " 'High Tower Text',\n",
       " 'Bodoni MT',\n",
       " 'Curlz MT',\n",
       " 'High Tower Text',\n",
       " 'New Gulim',\n",
       " 'Bookshelf Symbol 7',\n",
       " 'Microsoft PhagsPa',\n",
       " 'Gabriola',\n",
       " 'Niagara Solid',\n",
       " 'Segoe Print',\n",
       " 'Eras Medium ITC',\n",
       " 'Microsoft New Tai Lue',\n",
       " 'Dubai',\n",
       " 'Franklin Gothic Medium Cond',\n",
       " 'Bodoni MT',\n",
       " 'Arial',\n",
       " 'Old English Text MT',\n",
       " 'Segoe UI',\n",
       " 'HCR Dotum',\n",
       " 'Perpetua',\n",
       " 'Cambria',\n",
       " 'MJemokBatang',\n",
       " 'Yet R',\n",
       " 'Arial',\n",
       " 'Courier New',\n",
       " 'SimSun-ExtB',\n",
       " 'LiSu',\n",
       " 'Georgia',\n",
       " 'STZhongsong',\n",
       " 'Calibri',\n",
       " 'Calibri',\n",
       " 'Monotype Corsiva',\n",
       " 'Times New Roman',\n",
       " 'Century Schoolbook',\n",
       " 'HYGothic-Medium',\n",
       " 'Juice ITC',\n",
       " 'Malgun Gothic',\n",
       " 'Sitka Small',\n",
       " 'Lucida Sans Unicode',\n",
       " 'Courier New',\n",
       " 'NanumSquare_ac',\n",
       " 'Candara',\n",
       " 'Arial',\n",
       " 'HYShortSamul-Medium',\n",
       " 'Lucida Sans',\n",
       " 'Consolas',\n",
       " 'Century Schoolbook',\n",
       " 'HYGraphic-Medium',\n",
       " 'Georgia',\n",
       " 'Bodoni MT',\n",
       " 'Microsoft New Tai Lue',\n",
       " 'Segoe UI',\n",
       " 'Dubai',\n",
       " 'HYGungSo-Bold',\n",
       " 'Mongolian Baiti',\n",
       " 'Rockwell',\n",
       " 'Bodoni MT',\n",
       " 'Batang',\n",
       " 'Century Gothic',\n",
       " 'NanumSquare_ac',\n",
       " 'Arial',\n",
       " '?? ??? ?R',\n",
       " 'Franklin Gothic Heavy',\n",
       " 'STFangsong',\n",
       " 'Trebuchet MS',\n",
       " 'Californian FB',\n",
       " 'NewJumja',\n",
       " 'Gill Sans MT',\n",
       " 'Magic R',\n",
       " 'Leelawadee UI',\n",
       " 'Franklin Gothic Medium',\n",
       " 'SimSun',\n",
       " 'MSugiJeong',\n",
       " 'Copperplate Gothic Bold',\n",
       " 'HYGothic-Extra',\n",
       " 'Kunstler Script',\n",
       " 'Symbol',\n",
       " 'YouYuan',\n",
       " 'Franklin Gothic Book',\n",
       " 'Tw Cen MT',\n",
       " 'Poor Richard',\n",
       " 'NanumSquare_ac',\n",
       " 'MS Gothic',\n",
       " 'Edwardian Script ITC',\n",
       " 'Webdings',\n",
       " 'Corbel',\n",
       " 'Leelawadee UI',\n",
       " 'French Script MT',\n",
       " 'Myanmar Text',\n",
       " 'Leelawadee',\n",
       " 'HYPost-Medium',\n",
       " 'Lucida Bright',\n",
       " 'Maiandra GD']"
      ]
     },
     "execution_count": 8,
     "metadata": {},
     "output_type": "execute_result"
    }
   ],
   "source": [
    "import matplotlib.font_manager as fm\n",
    "font_list = [font.name for font in fm.fontManager.ttflist]\n",
    "font_list"
   ]
  },
  {
   "cell_type": "code",
   "execution_count": 14,
   "metadata": {
    "scrolled": true
   },
   "outputs": [
    {
     "data": {
      "text/plain": [
       "<matplotlib.axes._subplots.AxesSubplot at 0x25baf7aa888>"
      ]
     },
     "execution_count": 14,
     "metadata": {},
     "output_type": "execute_result"
    },
    {
     "data": {
      "image/png": "[encoded data removed]",
      "text/plain": [
       "<Figure size 432x288 with 1 Axes>"
      ]
     },
     "metadata": {
      "needs_background": "light"
     },
     "output_type": "display_data"
    }
   ],
   "source": [
    "# 카드이용지역 시도에 따른 객단가\n",
    "plt.rcParams['font.family']='NanumSquare_ac'\n",
    "plt.xticks(rotation=45)\n",
    "sns.barplot(x='CARD_SIDO_NM', y='CUST_AMT', data=credit, ci=None)"
   ]
  },
  {
   "cell_type": "code",
   "execution_count": 18,
   "metadata": {
    "scrolled": true
   },
   "outputs": [
    {
     "data": {
      "text/plain": [
       "<matplotlib.axes._subplots.AxesSubplot at 0x25b714b1488>"
      ]
     },
     "execution_count": 18,
     "metadata": {},
     "output_type": "execute_result"
    },
    {
     "data": {
      "image/png": "[encoded data removed]",
      "text/plain": [
       "<Figure size 432x288 with 1 Axes>"
      ]
     },
     "metadata": {
      "needs_background": "light"
     },
     "output_type": "display_data"
    }
   ],
   "source": [
    "# 업종명에 따른 객단가\n",
    "plt.rcParams['font.family']='NanumSquare_ac'\n",
    "plt.xticks(rotation = 90)\n",
    "sns.barplot(x='STD_CLSS_NM', y='CUST_AMT', data=credit, ci=None)"
   ]
  },
  {
   "cell_type": "code",
   "execution_count": 19,
   "metadata": {
    "scrolled": true
   },
   "outputs": [
    {
     "data": {
      "text/plain": [
       "<matplotlib.axes._subplots.AxesSubplot at 0x25ba7a79cc8>"
      ]
     },
     "execution_count": 19,
     "metadata": {},
     "output_type": "execute_result"
    },
    {
     "data": {
      "image/png": "[encoded data removed]",
      "text/plain": [
       "<Figure size 432x288 with 1 Axes>"
      ]
     },
     "metadata": {
      "needs_background": "light"
     },
     "output_type": "display_data"
    }
   ],
   "source": [
    "# 거주지역 시도에 따른 객단가\n",
    "plt.rcParams['font.family']='NanumSquare_ac'\n",
    "plt.xticks(rotation = 45)\n",
    "sns.barplot(x='HOM_SIDO_NM', y='CUST_AMT', data=credit, ci=None)"
   ]
  },
  {
   "cell_type": "code",
   "execution_count": 20,
   "metadata": {
    "scrolled": true
   },
   "outputs": [
    {
     "data": {
      "text/plain": [
       "<matplotlib.axes._subplots.AxesSubplot at 0x25ba7ae3ec8>"
      ]
     },
     "execution_count": 20,
     "metadata": {},
     "output_type": "execute_result"
    },
    {
     "data": {
      "image/png": "[encoded data removed]",
      "text/plain": [
       "<Figure size 432x288 with 1 Axes>"
      ]
     },
     "metadata": {
      "needs_background": "light"
     },
     "output_type": "display_data"
    }
   ],
   "source": [
    "# 연령에 따른 객단가\n",
    "plt.xticks(rotation = 45)\n",
    "sns.barplot(x='AGE', y='CUST_AMT', data=credit, ci=None)"
   ]
  },
  {
   "cell_type": "code",
   "execution_count": 21,
   "metadata": {
    "scrolled": false
   },
   "outputs": [
    {
     "data": {
      "text/plain": [
       "<matplotlib.axes._subplots.AxesSubplot at 0x25ba7aeb2c8>"
      ]
     },
     "execution_count": 21,
     "metadata": {},
     "output_type": "execute_result"
    },
    {
     "data": {
      "image/png": "[encoded data removed]",
      "text/plain": [
       "<Figure size 432x288 with 1 Axes>"
      ]
     },
     "metadata": {
      "needs_background": "light"
     },
     "output_type": "display_data"
    }
   ],
   "source": [
    "# 성별에 따른 객단가\n",
    "plt.xticks(rotation = 45)\n",
    "sns.barplot(x='SEX_CTGO_CD', y='CUST_AMT', data=credit, ci=None)"
   ]
  },
  {
   "cell_type": "code",
   "execution_count": 22,
   "metadata": {
    "scrolled": false
   },
   "outputs": [
    {
     "data": {
      "text/plain": [
       "<matplotlib.axes._subplots.AxesSubplot at 0x25b6bb5cfc8>"
      ]
     },
     "execution_count": 22,
     "metadata": {},
     "output_type": "execute_result"
    },
    {
     "data": {
      "image/png": "[encoded data removed]",
      "text/plain": [
       "<Figure size 432x288 with 1 Axes>"
      ]
     },
     "metadata": {
      "needs_background": "light"
     },
     "output_type": "display_data"
    }
   ],
   "source": [
    "# 생애주기에 따른 객단가\n",
    "plt.xticks(rotation = 45)\n",
    "sns.barplot(x='FLC', y='CUST_AMT', data=credit, ci=None)"
   ]
  },
  {
   "cell_type": "markdown",
   "metadata": {},
   "source": [
    "* 지역 변수"
   ]
  },
  {
   "cell_type": "markdown",
   "metadata": {},
   "source": [
    "1. 지역에 따른 객단가"
   ]
  },
  {
   "cell_type": "code",
   "execution_count": 14,
   "metadata": {
    "scrolled": true
   },
   "outputs": [
    {
     "data": {
      "text/plain": [
       "<matplotlib.axes._subplots.AxesSubplot at 0x25baf7aa888>"
      ]
     },
     "execution_count": 14,
     "metadata": {},
     "output_type": "execute_result"
    },
    {
     "data": {
      "image/png": "[encoded data removed]",
      "text/plain": [
       "<Figure size 432x288 with 1 Axes>"
      ]
     },
     "metadata": {
      "needs_background": "light"
     },
     "output_type": "display_data"
    }
   ],
   "source": [
    "# 카드이용지역 시도에 따른 객단가\n",
    "plt.rcParams['font.family']='NanumSquare_ac'\n",
    "plt.xticks(rotation=45)\n",
    "sns.barplot(x='CARD_SIDO_NM', y='CUST_AMT', data=credit, ci=None)"
   ]
  },
  {
   "cell_type": "markdown",
   "metadata": {},
   "source": [
    "제주에서 카드를 이용한 소비자의 고객 단위 이용매출이 가장 높고 대전에서 카드를 이용한 소비자의 고객 단위 이용매출이 가장 적다."
   ]
  },
  {
   "cell_type": "code",
   "execution_count": 19,
   "metadata": {
    "scrolled": false
   },
   "outputs": [
    {
     "data": {
      "text/plain": [
       "<matplotlib.axes._subplots.AxesSubplot at 0x25ba7a79cc8>"
      ]
     },
     "execution_count": 19,
     "metadata": {},
     "output_type": "execute_result"
    },
    {
     "data": {
      "image/png": "[encoded data removed]",
      "text/plain": [
       "<Figure size 432x288 with 1 Axes>"
      ]
     },
     "metadata": {
      "needs_background": "light"
     },
     "output_type": "display_data"
    }
   ],
   "source": [
    "# 거주지역 시도에 따른 객단가\n",
    "plt.rcParams['font.family']='NanumSquare_ac'\n",
    "plt.xticks(rotation = 45)\n",
    "sns.barplot(x='HOM_SIDO_NM', y='CUST_AMT', data=credit, ci=None)"
   ]
  },
  {
   "cell_type": "markdown",
   "metadata": {},
   "source": [
    "제주에 거주하는 소비자의 고객 단위 이용매출이 가장 높고 경기에 거주하는 소비자의 고객 단위 이용매출이 가장 적다."
   ]
  },
  {
   "cell_type": "markdown",
   "metadata": {},
   "source": [
    "2. 지역 내 카드이용여부"
   ]
  },
  {
   "cell_type": "code",
   "execution_count": 9,
   "metadata": {},
   "outputs": [],
   "source": [
    "# 지역 내 카드이용여부 변수 생성\n",
    "credit['LOCAL_SIDO'] = 0"
   ]
  },
  {
   "cell_type": "code",
   "execution_count": 10,
   "metadata": {},
   "outputs": [],
   "source": [
    "credit['LOCAL_SIDO'] = np.where(credit['HOM_SIDO_NM']==credit['CARD_SIDO_NM'],1,0)"
   ]
  },
  {
   "cell_type": "code",
   "execution_count": 11,
   "metadata": {},
   "outputs": [
    {
     "data": {
      "text/html": [
       "<div>\n",
       "<style scoped>\n",
       "    .dataframe tbody tr th:only-of-type {\n",
       "        vertical-align: middle;\n",
       "    }\n",
       "\n",
       "    .dataframe tbody tr th {\n",
       "        vertical-align: top;\n",
       "    }\n",
       "\n",
       "    .dataframe thead th {\n",
       "        text-align: right;\n",
       "    }\n",
       "</style>\n",
       "<table border=\"1\" class=\"dataframe\">\n",
       "  <thead>\n",
       "    <tr style=\"text-align: right;\">\n",
       "      <th></th>\n",
       "      <th>REG_YYMM</th>\n",
       "      <th>CARD_SIDO_NM</th>\n",
       "      <th>CARD_CCG_NM</th>\n",
       "      <th>STD_CLSS_NM</th>\n",
       "      <th>HOM_SIDO_NM</th>\n",
       "      <th>HOM_CCG_NM</th>\n",
       "      <th>AGE</th>\n",
       "      <th>SEX_CTGO_CD</th>\n",
       "      <th>FLC</th>\n",
       "      <th>CSTMR_CNT</th>\n",
       "      <th>AMT</th>\n",
       "      <th>CNT</th>\n",
       "      <th>REG_YY</th>\n",
       "      <th>REG_MM</th>\n",
       "      <th>CUST_AMT</th>\n",
       "      <th>LOCAL_SIDO</th>\n",
       "    </tr>\n",
       "  </thead>\n",
       "  <tbody>\n",
       "    <tr>\n",
       "      <th>1000</th>\n",
       "      <td>201901</td>\n",
       "      <td>강원</td>\n",
       "      <td>강릉시</td>\n",
       "      <td>기타 대형 종합 소매업</td>\n",
       "      <td>대전</td>\n",
       "      <td>유성구</td>\n",
       "      <td>30s</td>\n",
       "      <td>2</td>\n",
       "      <td>2</td>\n",
       "      <td>4</td>\n",
       "      <td>127580</td>\n",
       "      <td>4</td>\n",
       "      <td>2019</td>\n",
       "      <td>1</td>\n",
       "      <td>31895.000000</td>\n",
       "      <td>0</td>\n",
       "    </tr>\n",
       "    <tr>\n",
       "      <th>1001</th>\n",
       "      <td>201901</td>\n",
       "      <td>강원</td>\n",
       "      <td>강릉시</td>\n",
       "      <td>기타 대형 종합 소매업</td>\n",
       "      <td>대전</td>\n",
       "      <td>유성구</td>\n",
       "      <td>40s</td>\n",
       "      <td>1</td>\n",
       "      <td>3</td>\n",
       "      <td>3</td>\n",
       "      <td>123310</td>\n",
       "      <td>3</td>\n",
       "      <td>2019</td>\n",
       "      <td>1</td>\n",
       "      <td>41103.333333</td>\n",
       "      <td>0</td>\n",
       "    </tr>\n",
       "    <tr>\n",
       "      <th>1002</th>\n",
       "      <td>201901</td>\n",
       "      <td>강원</td>\n",
       "      <td>강릉시</td>\n",
       "      <td>기타 대형 종합 소매업</td>\n",
       "      <td>대전</td>\n",
       "      <td>유성구</td>\n",
       "      <td>50s</td>\n",
       "      <td>1</td>\n",
       "      <td>4</td>\n",
       "      <td>3</td>\n",
       "      <td>197330</td>\n",
       "      <td>3</td>\n",
       "      <td>2019</td>\n",
       "      <td>1</td>\n",
       "      <td>65776.666667</td>\n",
       "      <td>0</td>\n",
       "    </tr>\n",
       "    <tr>\n",
       "      <th>1003</th>\n",
       "      <td>201901</td>\n",
       "      <td>강원</td>\n",
       "      <td>강릉시</td>\n",
       "      <td>기타 대형 종합 소매업</td>\n",
       "      <td>대전</td>\n",
       "      <td>중구</td>\n",
       "      <td>20s</td>\n",
       "      <td>1</td>\n",
       "      <td>1</td>\n",
       "      <td>3</td>\n",
       "      <td>268210</td>\n",
       "      <td>3</td>\n",
       "      <td>2019</td>\n",
       "      <td>1</td>\n",
       "      <td>89403.333333</td>\n",
       "      <td>0</td>\n",
       "    </tr>\n",
       "    <tr>\n",
       "      <th>1004</th>\n",
       "      <td>201901</td>\n",
       "      <td>강원</td>\n",
       "      <td>강릉시</td>\n",
       "      <td>기타 대형 종합 소매업</td>\n",
       "      <td>부산</td>\n",
       "      <td>금정구</td>\n",
       "      <td>20s</td>\n",
       "      <td>2</td>\n",
       "      <td>1</td>\n",
       "      <td>4</td>\n",
       "      <td>62800</td>\n",
       "      <td>4</td>\n",
       "      <td>2019</td>\n",
       "      <td>1</td>\n",
       "      <td>15700.000000</td>\n",
       "      <td>0</td>\n",
       "    </tr>\n",
       "  </tbody>\n",
       "</table>\n",
       "</div>"
      ],
      "text/plain": [
       "      REG_YYMM CARD_SIDO_NM CARD_CCG_NM   STD_CLSS_NM HOM_SIDO_NM HOM_CCG_NM  \\\n",
       "1000    201901           강원         강릉시  기타 대형 종합 소매업          대전        유성구   \n",
       "1001    201901           강원         강릉시  기타 대형 종합 소매업          대전        유성구   \n",
       "1002    201901           강원         강릉시  기타 대형 종합 소매업          대전        유성구   \n",
       "1003    201901           강원         강릉시  기타 대형 종합 소매업          대전         중구   \n",
       "1004    201901           강원         강릉시  기타 대형 종합 소매업          부산        금정구   \n",
       "\n",
       "      AGE  SEX_CTGO_CD  FLC  CSTMR_CNT     AMT  CNT  REG_YY  REG_MM  \\\n",
       "1000  30s            2    2          4  127580    4    2019       1   \n",
       "1001  40s            1    3          3  123310    3    2019       1   \n",
       "1002  50s            1    4          3  197330    3    2019       1   \n",
       "1003  20s            1    1          3  268210    3    2019       1   \n",
       "1004  20s            2    1          4   62800    4    2019       1   \n",
       "\n",
       "          CUST_AMT  LOCAL_SIDO  \n",
       "1000  31895.000000           0  \n",
       "1001  41103.333333           0  \n",
       "1002  65776.666667           0  \n",
       "1003  89403.333333           0  \n",
       "1004  15700.000000           0  "
      ]
     },
     "execution_count": 11,
     "metadata": {},
     "output_type": "execute_result"
    }
   ],
   "source": [
    "credit.iloc[[1000,1001,1002,1003,1004],:]"
   ]
  },
  {
   "cell_type": "code",
   "execution_count": 12,
   "metadata": {
    "scrolled": false
   },
   "outputs": [
    {
     "data": {
      "text/plain": [
       "<matplotlib.axes._subplots.AxesSubplot at 0x1421b3fd5c8>"
      ]
     },
     "execution_count": 12,
     "metadata": {},
     "output_type": "execute_result"
    },
    {
     "data": {
      "image/png": "[encoded data removed]",
      "text/plain": [
       "<Figure size 432x288 with 1 Axes>"
      ]
     },
     "metadata": {
      "needs_background": "light"
     },
     "output_type": "display_data"
    }
   ],
   "source": [
    "# 카드이용지역과 거주지역의 일치여부\n",
    "plt.rcParams['font.family']='NanumSquare_ac'\n",
    "plt.xticks(rotation = 45)\n",
    "sns.barplot(x='CARD_SIDO_NM', y='LOCAL_SIDO', data=credit, ci=None)"
   ]
  },
  {
   "cell_type": "markdown",
   "metadata": {},
   "source": [
    "부산, 경기, 경남, 대구에서 카드를 이용한 사람 중에는 그 지역에 거주하는 사람이 많다. 세종, 제주, 강원에서 카드를 이용한 사람 중에는 그 지역에 거주하지 않는 사람이 많다."
   ]
  },
  {
   "cell_type": "code",
   "execution_count": 14,
   "metadata": {
    "scrolled": false
   },
   "outputs": [
    {
     "data": {
      "text/plain": [
       "<matplotlib.axes._subplots.AxesSubplot at 0x1422799ed08>"
      ]
     },
     "execution_count": 14,
     "metadata": {},
     "output_type": "execute_result"
    },
    {
     "data": {
      "image/png": "[encoded data removed]",
      "text/plain": [
       "<Figure size 432x288 with 1 Axes>"
      ]
     },
     "metadata": {
      "needs_background": "light"
     },
     "output_type": "display_data"
    }
   ],
   "source": [
    "# 거주지역과 카드이용지역의 일치여부\n",
    "plt.rcParams['font.family']='NanumSquare_ac'\n",
    "plt.xticks(rotation = 45)\n",
    "sns.barplot(x='HOM_SIDO_NM', y='LOCAL_SIDO', data=credit, ci=None)"
   ]
  },
  {
   "cell_type": "markdown",
   "metadata": {},
   "source": [
    "부산, 강원, 서울에 사는 사람 중에는 그 지역에서 카드를 쓰는 사람이 많다. 세종, 제주에 사는 사람 중에는 그 지역에서 카드를 쓰지 않는 사람이 많다."
   ]
  },
  {
   "cell_type": "markdown",
   "metadata": {},
   "source": [
    "*위 그래프와 아래 그래프에서 공통적으로 발견된 지역은 부산은 해당지역에 거주하면서 카드를 이용하는 사람이 많고 세종은 해당지역에 거주하면서 카드를 이용하는 사람이 적다.*"
   ]
  },
  {
   "cell_type": "code",
   "execution_count": 15,
   "metadata": {},
   "outputs": [
    {
     "data": {
      "text/html": [
       "<div>\n",
       "<style scoped>\n",
       "    .dataframe tbody tr th:only-of-type {\n",
       "        vertical-align: middle;\n",
       "    }\n",
       "\n",
       "    .dataframe tbody tr th {\n",
       "        vertical-align: top;\n",
       "    }\n",
       "\n",
       "    .dataframe thead th {\n",
       "        text-align: right;\n",
       "    }\n",
       "</style>\n",
       "<table border=\"1\" class=\"dataframe\">\n",
       "  <thead>\n",
       "    <tr style=\"text-align: right;\">\n",
       "      <th></th>\n",
       "      <th>REG_YYMM</th>\n",
       "      <th>CARD_SIDO_NM</th>\n",
       "      <th>CARD_CCG_NM</th>\n",
       "      <th>STD_CLSS_NM</th>\n",
       "      <th>HOM_SIDO_NM</th>\n",
       "      <th>HOM_CCG_NM</th>\n",
       "      <th>AGE</th>\n",
       "      <th>SEX_CTGO_CD</th>\n",
       "      <th>FLC</th>\n",
       "      <th>CSTMR_CNT</th>\n",
       "      <th>AMT</th>\n",
       "      <th>CNT</th>\n",
       "      <th>REG_YY</th>\n",
       "      <th>REG_MM</th>\n",
       "      <th>CUST_AMT</th>\n",
       "      <th>LOCAL_SIDO</th>\n",
       "    </tr>\n",
       "  </thead>\n",
       "  <tbody>\n",
       "    <tr>\n",
       "      <th>0</th>\n",
       "      <td>201901</td>\n",
       "      <td>강원</td>\n",
       "      <td>강릉시</td>\n",
       "      <td>건강보조식품 소매업</td>\n",
       "      <td>강원</td>\n",
       "      <td>강릉시</td>\n",
       "      <td>20s</td>\n",
       "      <td>1</td>\n",
       "      <td>1</td>\n",
       "      <td>4</td>\n",
       "      <td>311200</td>\n",
       "      <td>4</td>\n",
       "      <td>2019</td>\n",
       "      <td>1</td>\n",
       "      <td>77800.000000</td>\n",
       "      <td>1</td>\n",
       "    </tr>\n",
       "    <tr>\n",
       "      <th>1</th>\n",
       "      <td>201901</td>\n",
       "      <td>강원</td>\n",
       "      <td>강릉시</td>\n",
       "      <td>건강보조식품 소매업</td>\n",
       "      <td>강원</td>\n",
       "      <td>강릉시</td>\n",
       "      <td>30s</td>\n",
       "      <td>1</td>\n",
       "      <td>2</td>\n",
       "      <td>7</td>\n",
       "      <td>1374500</td>\n",
       "      <td>8</td>\n",
       "      <td>2019</td>\n",
       "      <td>1</td>\n",
       "      <td>196357.142857</td>\n",
       "      <td>1</td>\n",
       "    </tr>\n",
       "    <tr>\n",
       "      <th>2</th>\n",
       "      <td>201901</td>\n",
       "      <td>강원</td>\n",
       "      <td>강릉시</td>\n",
       "      <td>건강보조식품 소매업</td>\n",
       "      <td>강원</td>\n",
       "      <td>강릉시</td>\n",
       "      <td>30s</td>\n",
       "      <td>2</td>\n",
       "      <td>2</td>\n",
       "      <td>6</td>\n",
       "      <td>818700</td>\n",
       "      <td>6</td>\n",
       "      <td>2019</td>\n",
       "      <td>1</td>\n",
       "      <td>136450.000000</td>\n",
       "      <td>1</td>\n",
       "    </tr>\n",
       "    <tr>\n",
       "      <th>3</th>\n",
       "      <td>201901</td>\n",
       "      <td>강원</td>\n",
       "      <td>강릉시</td>\n",
       "      <td>건강보조식품 소매업</td>\n",
       "      <td>강원</td>\n",
       "      <td>강릉시</td>\n",
       "      <td>40s</td>\n",
       "      <td>1</td>\n",
       "      <td>3</td>\n",
       "      <td>4</td>\n",
       "      <td>1717000</td>\n",
       "      <td>5</td>\n",
       "      <td>2019</td>\n",
       "      <td>1</td>\n",
       "      <td>429250.000000</td>\n",
       "      <td>1</td>\n",
       "    </tr>\n",
       "    <tr>\n",
       "      <th>4</th>\n",
       "      <td>201901</td>\n",
       "      <td>강원</td>\n",
       "      <td>강릉시</td>\n",
       "      <td>건강보조식품 소매업</td>\n",
       "      <td>강원</td>\n",
       "      <td>강릉시</td>\n",
       "      <td>40s</td>\n",
       "      <td>1</td>\n",
       "      <td>4</td>\n",
       "      <td>3</td>\n",
       "      <td>1047300</td>\n",
       "      <td>3</td>\n",
       "      <td>2019</td>\n",
       "      <td>1</td>\n",
       "      <td>349100.000000</td>\n",
       "      <td>1</td>\n",
       "    </tr>\n",
       "    <tr>\n",
       "      <th>...</th>\n",
       "      <td>...</td>\n",
       "      <td>...</td>\n",
       "      <td>...</td>\n",
       "      <td>...</td>\n",
       "      <td>...</td>\n",
       "      <td>...</td>\n",
       "      <td>...</td>\n",
       "      <td>...</td>\n",
       "      <td>...</td>\n",
       "      <td>...</td>\n",
       "      <td>...</td>\n",
       "      <td>...</td>\n",
       "      <td>...</td>\n",
       "      <td>...</td>\n",
       "      <td>...</td>\n",
       "      <td>...</td>\n",
       "    </tr>\n",
       "    <tr>\n",
       "      <th>24697787</th>\n",
       "      <td>202003</td>\n",
       "      <td>충북</td>\n",
       "      <td>충주시</td>\n",
       "      <td>휴양콘도 운영업</td>\n",
       "      <td>충북</td>\n",
       "      <td>충주시</td>\n",
       "      <td>30s</td>\n",
       "      <td>1</td>\n",
       "      <td>2</td>\n",
       "      <td>3</td>\n",
       "      <td>43300</td>\n",
       "      <td>4</td>\n",
       "      <td>2020</td>\n",
       "      <td>3</td>\n",
       "      <td>14433.333333</td>\n",
       "      <td>1</td>\n",
       "    </tr>\n",
       "    <tr>\n",
       "      <th>24697788</th>\n",
       "      <td>202003</td>\n",
       "      <td>충북</td>\n",
       "      <td>충주시</td>\n",
       "      <td>휴양콘도 운영업</td>\n",
       "      <td>충북</td>\n",
       "      <td>충주시</td>\n",
       "      <td>40s</td>\n",
       "      <td>1</td>\n",
       "      <td>3</td>\n",
       "      <td>3</td>\n",
       "      <td>35000</td>\n",
       "      <td>3</td>\n",
       "      <td>2020</td>\n",
       "      <td>3</td>\n",
       "      <td>11666.666667</td>\n",
       "      <td>1</td>\n",
       "    </tr>\n",
       "    <tr>\n",
       "      <th>24697789</th>\n",
       "      <td>202003</td>\n",
       "      <td>충북</td>\n",
       "      <td>충주시</td>\n",
       "      <td>휴양콘도 운영업</td>\n",
       "      <td>충북</td>\n",
       "      <td>충주시</td>\n",
       "      <td>50s</td>\n",
       "      <td>1</td>\n",
       "      <td>4</td>\n",
       "      <td>4</td>\n",
       "      <td>188000</td>\n",
       "      <td>6</td>\n",
       "      <td>2020</td>\n",
       "      <td>3</td>\n",
       "      <td>47000.000000</td>\n",
       "      <td>1</td>\n",
       "    </tr>\n",
       "    <tr>\n",
       "      <th>24697790</th>\n",
       "      <td>202003</td>\n",
       "      <td>충북</td>\n",
       "      <td>충주시</td>\n",
       "      <td>휴양콘도 운영업</td>\n",
       "      <td>충북</td>\n",
       "      <td>충주시</td>\n",
       "      <td>50s</td>\n",
       "      <td>2</td>\n",
       "      <td>4</td>\n",
       "      <td>4</td>\n",
       "      <td>99000</td>\n",
       "      <td>6</td>\n",
       "      <td>2020</td>\n",
       "      <td>3</td>\n",
       "      <td>24750.000000</td>\n",
       "      <td>1</td>\n",
       "    </tr>\n",
       "    <tr>\n",
       "      <th>24697791</th>\n",
       "      <td>202003</td>\n",
       "      <td>충북</td>\n",
       "      <td>충주시</td>\n",
       "      <td>휴양콘도 운영업</td>\n",
       "      <td>충북</td>\n",
       "      <td>충주시</td>\n",
       "      <td>60s</td>\n",
       "      <td>1</td>\n",
       "      <td>5</td>\n",
       "      <td>3</td>\n",
       "      <td>194000</td>\n",
       "      <td>3</td>\n",
       "      <td>2020</td>\n",
       "      <td>3</td>\n",
       "      <td>64666.666667</td>\n",
       "      <td>1</td>\n",
       "    </tr>\n",
       "  </tbody>\n",
       "</table>\n",
       "<p>9721246 rows × 16 columns</p>\n",
       "</div>"
      ],
      "text/plain": [
       "          REG_YYMM CARD_SIDO_NM CARD_CCG_NM STD_CLSS_NM HOM_SIDO_NM  \\\n",
       "0           201901           강원         강릉시  건강보조식품 소매업          강원   \n",
       "1           201901           강원         강릉시  건강보조식품 소매업          강원   \n",
       "2           201901           강원         강릉시  건강보조식품 소매업          강원   \n",
       "3           201901           강원         강릉시  건강보조식품 소매업          강원   \n",
       "4           201901           강원         강릉시  건강보조식품 소매업          강원   \n",
       "...            ...          ...         ...         ...         ...   \n",
       "24697787    202003           충북         충주시    휴양콘도 운영업          충북   \n",
       "24697788    202003           충북         충주시    휴양콘도 운영업          충북   \n",
       "24697789    202003           충북         충주시    휴양콘도 운영업          충북   \n",
       "24697790    202003           충북         충주시    휴양콘도 운영업          충북   \n",
       "24697791    202003           충북         충주시    휴양콘도 운영업          충북   \n",
       "\n",
       "         HOM_CCG_NM  AGE  SEX_CTGO_CD  FLC  CSTMR_CNT      AMT  CNT  REG_YY  \\\n",
       "0               강릉시  20s            1    1          4   311200    4    2019   \n",
       "1               강릉시  30s            1    2          7  1374500    8    2019   \n",
       "2               강릉시  30s            2    2          6   818700    6    2019   \n",
       "3               강릉시  40s            1    3          4  1717000    5    2019   \n",
       "4               강릉시  40s            1    4          3  1047300    3    2019   \n",
       "...             ...  ...          ...  ...        ...      ...  ...     ...   \n",
       "24697787        충주시  30s            1    2          3    43300    4    2020   \n",
       "24697788        충주시  40s            1    3          3    35000    3    2020   \n",
       "24697789        충주시  50s            1    4          4   188000    6    2020   \n",
       "24697790        충주시  50s            2    4          4    99000    6    2020   \n",
       "24697791        충주시  60s            1    5          3   194000    3    2020   \n",
       "\n",
       "          REG_MM       CUST_AMT  LOCAL_SIDO  \n",
       "0              1   77800.000000           1  \n",
       "1              1  196357.142857           1  \n",
       "2              1  136450.000000           1  \n",
       "3              1  429250.000000           1  \n",
       "4              1  349100.000000           1  \n",
       "...          ...            ...         ...  \n",
       "24697787       3   14433.333333           1  \n",
       "24697788       3   11666.666667           1  \n",
       "24697789       3   47000.000000           1  \n",
       "24697790       3   24750.000000           1  \n",
       "24697791       3   64666.666667           1  \n",
       "\n",
       "[9721246 rows x 16 columns]"
      ]
     },
     "execution_count": 15,
     "metadata": {},
     "output_type": "execute_result"
    }
   ],
   "source": [
    "# 카드이용지역과 거주지역이 같은 데이터\n",
    "credit[credit['LOCAL_SIDO']==1]"
   ]
  },
  {
   "cell_type": "code",
   "execution_count": 19,
   "metadata": {
    "scrolled": true
   },
   "outputs": [
    {
     "data": {
      "text/plain": [
       "<matplotlib.axes._subplots.AxesSubplot at 0x142349cbac8>"
      ]
     },
     "execution_count": 19,
     "metadata": {},
     "output_type": "execute_result"
    },
    {
     "data": {
      "image/png": "[encoded data removed]",
      "text/plain": [
       "<Figure size 432x288 with 1 Axes>"
      ]
     },
     "metadata": {
      "needs_background": "light"
     },
     "output_type": "display_data"
    }
   ],
   "source": [
    "# 카드이용지역과 거주지역이 일치하는 데이터의 업종\n",
    "plt.rcParams['font.family']='NanumSquare_ac'\n",
    "plt.xticks(rotation = 90)\n",
    "sns.countplot(x='STD_CLSS_NM', data=credit[credit['LOCAL_SIDO']==1])"
   ]
  },
  {
   "cell_type": "markdown",
   "metadata": {},
   "source": [
    "한식 음식점업, 체인화 편의점 업종은 카드이용지역과 거주지역이 일치하는 경우가 많다. 여행사업, 기타 수상오락 서비스업, 오락관련 서비스업 등은 일치하지 않는 경우가 많다. 단, 이는 절대적인 수치이므로 비율을 알아보기 위해 아래 그래프를 이용한다."
   ]
  },
  {
   "cell_type": "code",
   "execution_count": 21,
   "metadata": {
    "scrolled": true
   },
   "outputs": [
    {
     "data": {
      "text/plain": [
       "<matplotlib.axes._subplots.AxesSubplot at 0x1422be6d488>"
      ]
     },
     "execution_count": 21,
     "metadata": {},
     "output_type": "execute_result"
    },
    {
     "data": {
      "image/png": "[encoded data removed]",
      "text/plain": [
       "<Figure size 432x288 with 1 Axes>"
      ]
     },
     "metadata": {
      "needs_background": "light"
     },
     "output_type": "display_data"
    }
   ],
   "source": [
    "# 카드이용지역과 거주지역이 일치하는 데이터의 업종 비율\n",
    "plt.rcParams['font.family']='NanumSquare_ac'\n",
    "plt.xticks(rotation = 90)\n",
    "sns.countplot(x='STD_CLSS_NM', hue='LOCAL_SIDO', data=credit)"
   ]
  },
  {
   "cell_type": "markdown",
   "metadata": {},
   "source": [
    "카드이용지역과 거주지역이 일치하는 소비자와 일치하지 않는 소비자의 차이가 큰 업종은 한식 음식점, 체인화 편의점이다.  "
   ]
  },
  {
   "cell_type": "code",
   "execution_count": 27,
   "metadata": {
    "scrolled": false
   },
   "outputs": [
    {
     "data": {
      "text/plain": [
       "<matplotlib.axes._subplots.AxesSubplot at 0x1422998ce48>"
      ]
     },
     "execution_count": 27,
     "metadata": {},
     "output_type": "execute_result"
    },
    {
     "data": {
      "image/png": "[encoded data removed]",
      "text/plain": [
       "<Figure size 432x288 with 1 Axes>"
      ]
     },
     "metadata": {
      "needs_background": "light"
     },
     "output_type": "display_data"
    }
   ],
   "source": [
    "# 카드이용지역과 거주지역이 일치하는 데이터의 연령 비율\n",
    "sns.countplot(x='AGE', hue='LOCAL_SIDO', data=credit)"
   ]
  },
  {
   "cell_type": "markdown",
   "metadata": {},
   "source": [
    "20대, 30대, 50대는 카드이용지역과 거주지역이 다른 소비자가 많고 40대, 60대는 카드이용지역과 거주지역이 같은 소비자가 많다."
   ]
  },
  {
   "cell_type": "code",
   "execution_count": 28,
   "metadata": {
    "scrolled": true
   },
   "outputs": [
    {
     "data": {
      "text/plain": [
       "<matplotlib.axes._subplots.AxesSubplot at 0x142298462c8>"
      ]
     },
     "execution_count": 28,
     "metadata": {},
     "output_type": "execute_result"
    },
    {
     "data": {
      "image/png": "[encoded data removed]",
      "text/plain": [
       "<Figure size 432x288 with 1 Axes>"
      ]
     },
     "metadata": {
      "needs_background": "light"
     },
     "output_type": "display_data"
    }
   ],
   "source": [
    "# 카드이용지역과 거주지역이 일치하는 데이터의 성별 비율\n",
    "sns.countplot(x='SEX_CTGO_CD', hue='LOCAL_SIDO', data=credit)"
   ]
  },
  {
   "cell_type": "markdown",
   "metadata": {},
   "source": [
    "1 남자는 카드이용지역과 거주지역이 다른 소비자가 많고 2 여자는 카드이용지역과 거주지역이 같은 소비자가 많다."
   ]
  },
  {
   "cell_type": "code",
   "execution_count": 29,
   "metadata": {
    "scrolled": false
   },
   "outputs": [
    {
     "data": {
      "text/plain": [
       "<matplotlib.axes._subplots.AxesSubplot at 0x1422895d208>"
      ]
     },
     "execution_count": 29,
     "metadata": {},
     "output_type": "execute_result"
    },
    {
     "data": {
      "image/png": "[encoded data removed]",
      "text/plain": [
       "<Figure size 432x288 with 1 Axes>"
      ]
     },
     "metadata": {
      "needs_background": "light"
     },
     "output_type": "display_data"
    }
   ],
   "source": [
    "# 카드이용지역과 거주지역이 일치하는 데이터의 가구생애주기 비율\n",
    "sns.countplot(x='FLC', hue='LOCAL_SIDO', data=credit)"
   ]
  },
  {
   "cell_type": "markdown",
   "metadata": {},
   "source": [
    "가구생애주기(1: 1인가구, 2: 영유아자녀가구, 3: 중고생자녀가구, 4: 성인자녀가구, 5: 노년가구)\n",
    "\n",
    "노년가구, 중고생자녀가구는 카드이용지역과 거주지역이 일치하는 경우가 많고 1인가구는 카드이용지역과 거주지역이 다른 경우가 많다."
   ]
  },
  {
   "cell_type": "markdown",
   "metadata": {},
   "source": [
    "3. 시군구"
   ]
  },
  {
   "cell_type": "code",
   "execution_count": 44,
   "metadata": {},
   "outputs": [
    {
     "data": {
      "text/plain": [
       "array(['강원', '경기', '경남', '경북', '광주', '대구', '대전', '부산', '서울', '세종', '울산',\n",
       "       '인천', '전남', '전북', '제주', '충남', '충북'], dtype=object)"
      ]
     },
     "execution_count": 44,
     "metadata": {},
     "output_type": "execute_result"
    }
   ],
   "source": [
    "SIDO_NM = credit['CARD_SIDO_NM'].unique()\n",
    "SIDO_NM"
   ]
  },
  {
   "cell_type": "code",
   "execution_count": 43,
   "metadata": {
    "scrolled": false
   },
   "outputs": [
    {
     "data": {
      "image/png": "[encoded data removed]",
      "text/plain": [
       "<Figure size 432x288 with 1 Axes>"
      ]
     },
     "metadata": {
      "needs_background": "light"
     },
     "output_type": "display_data"
    },
    {
     "data": {
      "image/png": "[encoded data removed]",
      "text/plain": [
       "<Figure size 432x288 with 1 Axes>"
      ]
     },
     "metadata": {
      "needs_background": "light"
     },
     "output_type": "display_data"
    },
    {
     "data": {
      "image/png": "[encoded data removed]",
      "text/plain": [
       "<Figure size 432x288 with 1 Axes>"
      ]
     },
     "metadata": {
      "needs_background": "light"
     },
     "output_type": "display_data"
    },
    {
     "data": {
      "image/png": "[encoded data removed]",
      "text/plain": [
       "<Figure size 432x288 with 1 Axes>"
      ]
     },
     "metadata": {
      "needs_background": "light"
     },
     "output_type": "display_data"
    },
    {
     "data": {
      "image/png": "[encoded data removed]",
      "text/plain": [
       "<Figure size 432x288 with 1 Axes>"
      ]
     },
     "metadata": {
      "needs_background": "light"
     },
     "output_type": "display_data"
    },
    {
     "data": {
      "image/png": "[encoded data removed]",
      "text/plain": [
       "<Figure size 432x288 with 1 Axes>"
      ]
     },
     "metadata": {
      "needs_background": "light"
     },
     "output_type": "display_data"
    },
    {
     "data": {
      "image/png": "[encoded data removed]",
      "text/plain": [
       "<Figure size 432x288 with 1 Axes>"
      ]
     },
     "metadata": {
      "needs_background": "light"
     },
     "output_type": "display_data"
    },
    {
     "data": {
      "image/png": "[encoded data removed]",
      "text/plain": [
       "<Figure size 432x288 with 1 Axes>"
      ]
     },
     "metadata": {
      "needs_background": "light"
     },
     "output_type": "display_data"
    },
    {
     "data": {
      "image/png": "[encoded data removed]",
      "text/plain": [
       "<Figure size 432x288 with 1 Axes>"
      ]
     },
     "metadata": {
      "needs_background": "light"
     },
     "output_type": "display_data"
    },
    {
     "data": {
      "image/png": "[encoded data removed]",
      "text/plain": [
       "<Figure size 432x288 with 1 Axes>"
      ]
     },
     "metadata": {
      "needs_background": "light"
     },
     "output_type": "display_data"
    },
    {
     "data": {
      "image/png": "[encoded data removed]",
      "text/plain": [
       "<Figure size 432x288 with 1 Axes>"
      ]
     },
     "metadata": {
      "needs_background": "light"
     },
     "output_type": "display_data"
    },
    {
     "data": {
      "image/png": "[encoded data removed]",
      "text/plain": [
       "<Figure size 432x288 with 1 Axes>"
      ]
     },
     "metadata": {
      "needs_background": "light"
     },
     "output_type": "display_data"
    },
    {
     "data": {
      "image/png": "[encoded data removed]",
      "text/plain": [
       "<Figure size 432x288 with 1 Axes>"
      ]
     },
     "metadata": {
      "needs_background": "light"
     },
     "output_type": "display_data"
    },
    {
     "data": {
      "image/png": "[encoded data removed]",
      "text/plain": [
       "<Figure size 432x288 with 1 Axes>"
      ]
     },
     "metadata": {
      "needs_background": "light"
     },
     "output_type": "display_data"
    },
    {
     "data": {
      "image/png": "[encoded data removed]",
      "text/plain": [
       "<Figure size 432x288 with 1 Axes>"
      ]
     },
     "metadata": {
      "needs_background": "light"
     },
     "output_type": "display_data"
    },
    {
     "data": {
      "image/png": "[encoded data removed]",
      "text/plain": [
       "<Figure size 432x288 with 1 Axes>"
      ]
     },
     "metadata": {
      "needs_background": "light"
     },
     "output_type": "display_data"
    },
    {
     "data": {
      "image/png": "[encoded data removed]",
      "text/plain": [
       "<Figure size 432x288 with 1 Axes>"
      ]
     },
     "metadata": {
      "needs_background": "light"
     },
     "output_type": "display_data"
    }
   ],
   "source": [
    "for i in range(len(credit['CARD_SIDO_NM'].unique())):\n",
    "    plt.rcParams['font.family']='NanumSquare_ac'\n",
    "    plt.xticks(rotation=90)\n",
    "    sns.barplot(x='CARD_CCG_NM', y='CUST_AMT', data=credit[credit['CARD_SIDO_NM']==SIDO_NM[i]], ci=None)\n",
    "    plt.title(SIDO_NM[i])\n",
    "    plt.show()"
   ]
  },
  {
   "cell_type": "markdown",
   "metadata": {},
   "source": [
    "대부분 시군구에 따라 객단가 차이가 존재하며, 그 중에서도 서울, 경기가 시군구에 따른 객단가 차이가 크다."
   ]
  },
  {
   "cell_type": "code",
   "execution_count": 46,
   "metadata": {
    "scrolled": false
   },
   "outputs": [
    {
     "data": {
      "text/plain": [
       "<matplotlib.axes._subplots.AxesSubplot at 0x1422d852fc8>"
      ]
     },
     "execution_count": 46,
     "metadata": {},
     "output_type": "execute_result"
    },
    {
     "data": {
      "image/png": "[encoded data removed]",
      "text/plain": [
       "<Figure size 1440x360 with 1 Axes>"
      ]
     },
     "metadata": {
      "needs_background": "light"
     },
     "output_type": "display_data"
    }
   ],
   "source": [
    "# 서울\n",
    "plt.figure(figsize=(20,5))\n",
    "plt.rcParams['font.family']='NanumSquare_ac'\n",
    "plt.xticks(rotation=45)\n",
    "sns.barplot(x='CARD_CCG_NM', y='CUST_AMT', hue='AGE', data=credit[credit['CARD_SIDO_NM']=='서울'], ci=None)"
   ]
  },
  {
   "cell_type": "markdown",
   "metadata": {},
   "source": [
    "서울에서 객단가가 가장 높았던 강서구, 종로구, 중구를 중심으로 보면 모두 50대, 60대, 70대 소비자가 매우 많은 것을 볼 수 있다."
   ]
  },
  {
   "cell_type": "code",
   "execution_count": 48,
   "metadata": {
    "scrolled": true
   },
   "outputs": [
    {
     "data": {
      "text/plain": [
       "<matplotlib.axes._subplots.AxesSubplot at 0x14281167308>"
      ]
     },
     "execution_count": 48,
     "metadata": {},
     "output_type": "execute_result"
    },
    {
     "data": {
      "image/png": "[encoded data removed]",
      "text/plain": [
       "<Figure size 1440x360 with 1 Axes>"
      ]
     },
     "metadata": {
      "needs_background": "light"
     },
     "output_type": "display_data"
    }
   ],
   "source": [
    "# 경기\n",
    "plt.figure(figsize=(20,5))\n",
    "plt.rcParams['font.family']='NanumSquare_ac'\n",
    "plt.xticks(rotation=45)\n",
    "sns.barplot(x='CARD_CCG_NM', y='CUST_AMT', hue='AGE', data=credit[credit['CARD_SIDO_NM']=='경기'], ci=None)"
   ]
  },
  {
   "cell_type": "markdown",
   "metadata": {},
   "source": [
    "경기에서 객단가가 가장 높았던 여주시를 중심으로 보면 모두 40대, 50대, 60대 소비자가 매우 많은 것을 볼 수 있다."
   ]
  },
  {
   "cell_type": "markdown",
   "metadata": {},
   "source": [
    "## 제출양식"
   ]
  },
  {
   "cell_type": "code",
   "execution_count": 12,
   "metadata": {},
   "outputs": [],
   "source": [
    "sub = pd.read_csv('C:/Users/user/Desktop/대학원/공모전/데이터/jeju_data_ver1/submission.csv')"
   ]
  },
  {
   "cell_type": "code",
   "execution_count": 13,
   "metadata": {},
   "outputs": [
    {
     "data": {
      "text/html": [
       "<div>\n",
       "<style scoped>\n",
       "    .dataframe tbody tr th:only-of-type {\n",
       "        vertical-align: middle;\n",
       "    }\n",
       "\n",
       "    .dataframe tbody tr th {\n",
       "        vertical-align: top;\n",
       "    }\n",
       "\n",
       "    .dataframe thead th {\n",
       "        text-align: right;\n",
       "    }\n",
       "</style>\n",
       "<table border=\"1\" class=\"dataframe\">\n",
       "  <thead>\n",
       "    <tr style=\"text-align: right;\">\n",
       "      <th></th>\n",
       "      <th>id</th>\n",
       "      <th>REG_YYMM</th>\n",
       "      <th>CARD_SIDO_NM</th>\n",
       "      <th>STD_CLSS_NM</th>\n",
       "      <th>AMT</th>\n",
       "    </tr>\n",
       "  </thead>\n",
       "  <tbody>\n",
       "    <tr>\n",
       "      <th>0</th>\n",
       "      <td>0</td>\n",
       "      <td>202004</td>\n",
       "      <td>강원</td>\n",
       "      <td>건강보조식품 소매업</td>\n",
       "      <td>0</td>\n",
       "    </tr>\n",
       "    <tr>\n",
       "      <th>1</th>\n",
       "      <td>1</td>\n",
       "      <td>202004</td>\n",
       "      <td>강원</td>\n",
       "      <td>골프장 운영업</td>\n",
       "      <td>0</td>\n",
       "    </tr>\n",
       "    <tr>\n",
       "      <th>2</th>\n",
       "      <td>2</td>\n",
       "      <td>202004</td>\n",
       "      <td>강원</td>\n",
       "      <td>과실 및 채소 소매업</td>\n",
       "      <td>0</td>\n",
       "    </tr>\n",
       "    <tr>\n",
       "      <th>3</th>\n",
       "      <td>3</td>\n",
       "      <td>202004</td>\n",
       "      <td>강원</td>\n",
       "      <td>관광 민예품 및 선물용품 소매업</td>\n",
       "      <td>0</td>\n",
       "    </tr>\n",
       "    <tr>\n",
       "      <th>4</th>\n",
       "      <td>4</td>\n",
       "      <td>202004</td>\n",
       "      <td>강원</td>\n",
       "      <td>그외 기타 분류안된 오락관련 서비스업</td>\n",
       "      <td>0</td>\n",
       "    </tr>\n",
       "  </tbody>\n",
       "</table>\n",
       "</div>"
      ],
      "text/plain": [
       "   id  REG_YYMM CARD_SIDO_NM           STD_CLSS_NM  AMT\n",
       "0   0    202004           강원            건강보조식품 소매업    0\n",
       "1   1    202004           강원               골프장 운영업    0\n",
       "2   2    202004           강원           과실 및 채소 소매업    0\n",
       "3   3    202004           강원     관광 민예품 및 선물용품 소매업    0\n",
       "4   4    202004           강원  그외 기타 분류안된 오락관련 서비스업    0"
      ]
     },
     "execution_count": 13,
     "metadata": {},
     "output_type": "execute_result"
    }
   ],
   "source": [
    "sub.head()"
   ]
  },
  {
   "cell_type": "markdown",
   "metadata": {},
   "source": [
    "1. id: 구분자\n",
    "2. REG_YYMM: 년월\n",
    "3. CARD_SIDO_NM: 카드이용지역_시도 (가맹점 주소 기준)\n",
    "4. STD_CLSS_NM: 업종명\n",
    "5. AMT: 이용금액 (원)"
   ]
  },
  {
   "cell_type": "code",
   "execution_count": 15,
   "metadata": {},
   "outputs": [
    {
     "data": {
      "text/plain": [
       "(1394, 5)"
      ]
     },
     "execution_count": 15,
     "metadata": {},
     "output_type": "execute_result"
    }
   ],
   "source": [
    "# (행, 변수)\n",
    "sub.shape"
   ]
  },
  {
   "cell_type": "code",
   "execution_count": 17,
   "metadata": {},
   "outputs": [
    {
     "name": "stdout",
     "output_type": "stream",
     "text": [
      "<class 'pandas.core.frame.DataFrame'>\n",
      "RangeIndex: 1394 entries, 0 to 1393\n",
      "Data columns (total 5 columns):\n",
      " #   Column        Non-Null Count  Dtype \n",
      "---  ------        --------------  ----- \n",
      " 0   id            1394 non-null   int64 \n",
      " 1   REG_YYMM      1394 non-null   int64 \n",
      " 2   CARD_SIDO_NM  1394 non-null   object\n",
      " 3   STD_CLSS_NM   1394 non-null   object\n",
      " 4   AMT           1394 non-null   int64 \n",
      "dtypes: int64(3), object(2)\n",
      "memory usage: 54.6+ KB\n"
     ]
    }
   ],
   "source": [
    "sub.info()"
   ]
  },
  {
   "cell_type": "code",
   "execution_count": 18,
   "metadata": {
    "scrolled": true
   },
   "outputs": [
    {
     "data": {
      "text/plain": [
       "AMT             0\n",
       "STD_CLSS_NM     0\n",
       "CARD_SIDO_NM    0\n",
       "REG_YYMM        0\n",
       "id              0\n",
       "dtype: int64"
      ]
     },
     "execution_count": 18,
     "metadata": {},
     "output_type": "execute_result"
    }
   ],
   "source": [
    "sub.isnull().sum().sort_values(ascending=False)"
   ]
  },
  {
   "cell_type": "markdown",
   "metadata": {},
   "source": [
    "# 머신러닝"
   ]
  },
  {
   "cell_type": "code",
   "execution_count": 5,
   "metadata": {},
   "outputs": [],
   "source": [
    "from sklearn import svm"
   ]
  },
  {
   "cell_type": "code",
   "execution_count": null,
   "metadata": {},
   "outputs": [],
   "source": []
  }
 ],
 "metadata": {
  "kernelspec": {
   "display_name": "Python 3",
   "language": "python",
   "name": "python3"
  },
  "language_info": {
   "codemirror_mode": {
    "name": "ipython",
    "version": 3
   },
   "file_extension": ".py",
   "mimetype": "text/x-python",
   "name": "python",
   "nbconvert_exporter": "python",
   "pygments_lexer": "ipython3",
   "version": "3.7.7"
  }
 },
 "nbformat": 4,
 "nbformat_minor": 4
}
